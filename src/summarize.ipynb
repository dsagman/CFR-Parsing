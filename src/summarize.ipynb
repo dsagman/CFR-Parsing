{
 "cells": [
  {
   "cell_type": "markdown",
   "metadata": {},
   "source": [
    "Try and do summarization of CFR sections"
   ]
  },
  {
   "cell_type": "code",
   "execution_count": 32,
   "metadata": {},
   "outputs": [
    {
     "name": "stdout",
     "output_type": "stream",
     "text": [
      "['C:/Users/Lilly/Documents/GitHub/CFR-Parsing/nltk']\n"
     ]
    }
   ],
   "source": [
    "import pandas as pd\n",
    "from transformers import pipeline\n",
    "import nltk\n",
    "from nltk.tokenize import sent_tokenize\n"
   ]
  },
  {
   "cell_type": "code",
   "execution_count": null,
   "metadata": {},
   "outputs": [],
   "source": [
    "# if you are trying to use this, use the line below\n",
    "# nltk.download('punkt', download_dir='../nltk')\n",
    "\n",
    "# i had problems and had to force the directory and path for nltk. don't use this!\n",
    "# nltk.data.path = [] \n",
    "# nltk.data.path.append(\"C:/Users/Lilly/Documents/GitHub/CFR-Parsing/nltk\")"
   ]
  },
  {
   "cell_type": "code",
   "execution_count": 33,
   "metadata": {},
   "outputs": [
    {
     "name": "stdout",
     "output_type": "stream",
     "text": [
      "<class 'pandas.core.frame.DataFrame'>\n",
      "RangeIndex: 117306 entries, 0 to 117305\n",
      "Data columns (total 6 columns):\n",
      " #   Column        Non-Null Count   Dtype \n",
      "---  ------        --------------   ----- \n",
      " 0   p_id          117306 non-null  object\n",
      " 1   text          117306 non-null  object\n",
      " 2   child_ids     117306 non-null  object\n",
      " 3   cfr_links     117306 non-null  object\n",
      " 4   other_links   117306 non-null  object\n",
      " 5   link_targets  117306 non-null  object\n",
      "dtypes: object(6)\n",
      "memory usage: 5.4+ MB\n"
     ]
    }
   ],
   "source": [
    "# load the dataframe \n",
    "title_number = \"12\"\n",
    "df = pd.read_parquet(f\"../dataframe/{title_number}.parquet\")\n",
    "df.info()"
   ]
  },
  {
   "cell_type": "code",
   "execution_count": 34,
   "metadata": {},
   "outputs": [
    {
     "name": "stdout",
     "output_type": "stream",
     "text": [
      "Number of paragraphs: 95\n"
     ]
    },
    {
     "data": {
      "text/plain": [
       "\"(a)Refinancings.A refinancing occurs when an existing obligation that was subject to this subpart is satisfied and replaced by a new obligation undertaken by the same consumer. A refinancing is a new transaction requiring new disclosures to the consumer. The new finance charge shall include any unearned portion of the old finance charge that is not credited to the existing obligation. The following shall not be treated as a refinancing:\\n(1)A renewal of a single payment obligation with no change in the original terms.\\n(2)A reduction in the annual percentage rate with a corresponding change in the payment schedule.\\n(3)An agreement involving a court proceeding.\\n(4)A change in the payment schedule or a change in collateral requirements as a result of the consumer's default or delinquency, unless the rate is increased, or the new amount financed exceeds the unpaid balance plus earned finance charge and premiums for continuation of insurance of the types described in§ 1026.4(d).\\n(5)The renew\""
      ]
     },
     "execution_count": 34,
     "metadata": {},
     "output_type": "execute_result"
    }
   ],
   "source": [
    "reg_z_id = '1026.20'\n",
    "reg_z_df = df[df['p_id'].str.startswith(reg_z_id)].drop_duplicates(subset='p_id')\n",
    "reg_z_text_list = list(reg_z_df['text'])\n",
    "print(\"Number of paragraphs:\", len(reg_z_text_list))\n",
    "reg_z_text = \"\\n\".join(reg_z_text_list)\n",
    "reg_z_text[:1000]\n"
   ]
  },
  {
   "cell_type": "code",
   "execution_count": 35,
   "metadata": {},
   "outputs": [
    {
     "name": "stdout",
     "output_type": "stream",
     "text": [
      "Number of sentences: 80\n",
      "Number of text chunks: 26\n",
      "Processing chunk 1/26\n",
      "Processing chunk 2/26\n",
      "Processing chunk 3/26\n",
      "Processing chunk 4/26\n",
      "Processing chunk 5/26\n",
      "Processing chunk 6/26\n",
      "Processing chunk 7/26\n",
      "Processing chunk 8/26\n",
      "Processing chunk 9/26\n",
      "Processing chunk 10/26\n",
      "Processing chunk 11/26\n",
      "Processing chunk 12/26\n",
      "Processing chunk 13/26\n",
      "Processing chunk 14/26\n",
      "Processing chunk 15/26\n",
      "Processing chunk 16/26\n",
      "Processing chunk 17/26\n",
      "Processing chunk 18/26\n",
      "Processing chunk 19/26\n",
      "Processing chunk 20/26\n",
      "Processing chunk 21/26\n",
      "Processing chunk 22/26\n",
      "Processing chunk 23/26\n",
      "Processing chunk 24/26\n",
      "Processing chunk 25/26\n",
      "Processing chunk 26/26\n"
     ]
    }
   ],
   "source": [
    "max_length = 50 # length of the summaries\n",
    "\n",
    "# Initialize the summarizer\n",
    "summarizer = pipeline(\"summarization\", model=\"facebook/bart-large-cnn\")\n",
    "\n",
    "# Split the text into sentences\n",
    "sentences = sent_tokenize(reg_z_text)\n",
    "print(\"Number of sentences:\", len(sentences))\n",
    "\n",
    "# Function to create chunks of text\n",
    "def chunk_sentences(sentences, max_chunk_size=1024):\n",
    "    chunks = []\n",
    "    current_chunk = \"\"\n",
    "\n",
    "    for sentence in sentences:\n",
    "        if len(current_chunk) + len(sentence) > max_chunk_size:\n",
    "            chunks.append(current_chunk)\n",
    "            current_chunk = sentence\n",
    "        else:\n",
    "            current_chunk += ' ' + sentence\n",
    "\n",
    "    if current_chunk:\n",
    "        chunks.append(current_chunk)\n",
    "\n",
    "    return chunks\n",
    "\n",
    "# Create chunks from sentences\n",
    "chunks = chunk_sentences(sentences)\n",
    "print(\"Number of text chunks:\", len(chunks))\n",
    "\n",
    "# Summarize each chunk\n",
    "summaries = []\n",
    "for i, chunk in enumerate(chunks):\n",
    "    print(f\"Processing chunk {i+1}/{len(chunks)}\")\n",
    "    next_sum = summarizer(chunk, max_length=max_length, min_length=5, do_sample=False)\n",
    "    summaries.append(next_sum)\n",
    "\n",
    "\n"
   ]
  },
  {
   "cell_type": "code",
   "execution_count": 36,
   "metadata": {},
   "outputs": [
    {
     "data": {
      "text/plain": [
       "[[{'summary_text': 'Refinancing is a new transaction requiring new disclosures to the consumer. The new finance charge shall include any unearned portion of the old finance charge that is not credited to the existing obligation. The following shall not be treated as a refin'}],\n",
       " [{'summary_text': 'An assumption occurs when a creditor expressly agrees in writing with a subsequent consumer to accept that consumer as a primary obligor on an existing residential mortgage transaction. Before the assumption occurs, the creditor shall make new disclosures to the subsequent consumer, based'}],\n",
       " [{'summary_text': 'Rate adjustments with a corresponding change in payment. Creditor, assignee, or servicer of an adjustable-rate mortgage shall provide consumers with disclosures.'}],\n",
       " [{'summary_text': \"An adjustable-rate mortgage or “ARM” is a closed-end consumer credit transaction secured by the consumer's principal dwelling in which the annual percentage rate may increase after consummation. The requirements of thisparagraph (c)\"}],\n",
       " [{'summary_text': 'The disclosures required by thisparagraph (c)shall be provided to consumers at least 60, but no more than 120, days before the first payment at the adjusted level is due. The disclosures shall be provided for ARMs with uniformly scheduled'}],\n",
       " [{'summary_text': '§ 1026.20(d)was an estimate. The disclosures shall be provided to consumers as soon as practicable, but not less than 25 days before the first payment at the adjusted level is due.'}],\n",
       " [{'summary_text': 'The current payment allocation disclosed shall be the payment allocation for the last payment prior to the date of the disclosure. (ii) A table containing the following information: (A) The current and new interest rates; (B) The date'}],\n",
       " [{'summary_text': 'The specific index or formula used in making interest rate adjustments. The type and amount of any adjustment to the index. Any limits on the interest rate or payment increases at each interest rate adjustment.'}],\n",
       " [{'summary_text': 'An explanation of how the new payment is determined, including: The index or formula used. The loan balance expected on the date of the interest rate adjustment. The length of the remaining loan term.'}],\n",
       " [{'summary_text': 'If the new payment will result in negative amortization as a result of the interest rate adjustment, the statement shall set forth the payment required to amortize fully the remaining balance at the new interest rate over the remainder of the loan'}],\n",
       " [{'summary_text': 'The creditor, assignee, or servicer of an adjustable-rate mortgage shall provide consumers with disclosures, as described in thisparagraph (d), in connection with the initial interest rate adjustment pursuant to the loan contract.'}],\n",
       " [{'summary_text': 'The disclosures required by thisparagraph (d)shall be provided as a separate document from other documents provided by the creditor, assignee, or servicer. The disclosures shall be provided to consumers at least 210, but no more than 240'}],\n",
       " [{'summary_text': 'If the new interest rate is not known as of the date of the disclosure, an estimate shall be disclosed and labeled as such. The estimates shall be based on the calculation of the index reported in the source of information described inparagraph ('}],\n",
       " [{'summary_text': \"An explanation of the terms of the consumer's adjustable-rate mortgage. The amount of the current and new payment allocated to principal, interest, and taxes.\"}],\n",
       " [{'summary_text': 'The current payment allocation disclosed shall be the payment allocation for the last payment prior to the date of the disclosure. (iv) An explanation of how the interest rate is determined, including: The specific index or formula used in making interest rate'}],\n",
       " [{'summary_text': 'Any limits on the interest rate or payment increases at each interest rate adjustment and over the life of the loan. (v)'}],\n",
       " [{'summary_text': 'If the new interest rate or new payment provided is an estimate, a statement that another disclosure will be provided to the consumer between two and four months before the first payment at the adjusted level is due for interest rate adjustments. If applicable,'}],\n",
       " [{'summary_text': 'A statement that the new payment will not be allocated to pay loan principal and will pay only part of the loan interest. The telephone number of the creditor, assignee, or servicer for consumers to call if they anticipate not being able'}],\n",
       " [{'summary_text': 'The following alternatives to paying at the new rate that consumers may be able to pursue. The Web site to access either the Bureau list or the HUD list of homeownership counselors and counseling organizations. The HUD toll-free telephone number to access'}],\n",
       " [{'summary_text': 'The disclosures required by thisparagraph (d) shall be provided in the form of a table and in the same order as, and with headings and format substantially similar to, forms H–4(D)(3) and (4'}],\n",
       " [{'summary_text': 'In a closed-end consumer credit transaction secured by a first lien on real property or a dwelling, other than a reverse mortgage subject to§ 1026.33, for which an escrow account was established in connection with the transaction'}],\n",
       " [{'summary_text': 'A statement informing the consumer of the date on which the consumer will no longer have an escrow account. A table, titled “Cost to you,” that contains an itemization of the amount of any fee the creditor or'}],\n",
       " [{'summary_text': 'A statement of the consequences if the consumer fails to pay property costs, including the actions that a State or local government may take if property taxes are not paid. A statement of whether the creditor or servicer offers the option of keeping the'}],\n",
       " [{'summary_text': \"The creditor or servicer may, at its option, include its name, phone number, mailing address and property address, the issue date of the notice, the loan number, or the consumer's account number on the notice required by this\"}],\n",
       " [{'summary_text': 'The disclosure of the heading required byparagraph (e)(2)of this section shall be more conspicuous than, and shall precede, the other disclosures required by paragraph (e) (5)Timing—(i)Cance'}],\n",
       " [{'summary_text': 'If the disclosures required byparagraph (e)(2)of this section are not provided to the consumer in person, the consumer is considered to have received the disclosures three business days after they are delivered or placed in the mail. (f'}]]"
      ]
     },
     "execution_count": 36,
     "metadata": {},
     "output_type": "execute_result"
    }
   ],
   "source": [
    "summaries"
   ]
  },
  {
   "cell_type": "code",
   "execution_count": 46,
   "metadata": {},
   "outputs": [
    {
     "data": {
      "text/plain": [
       "\"Refinancing is a new transaction requiring new disclosures to the consumer. The new finance charge shall include any unearned portion of the old finance charge that is not credited to the existing obligation. The following shall not be treated as a refin An assumption occurs when a creditor expressly agrees in writing with a subsequent consumer to accept that consumer as a primary obligor on an existing residential mortgage transaction. Before the assumption occurs, the creditor shall make new disclosures to the subsequent consumer, based Rate adjustments with a corresponding change in payment. Creditor, assignee, or servicer of an adjustable-rate mortgage shall provide consumers with disclosures. An adjustable-rate mortgage or “ARM” is a closed-end consumer credit transaction secured by the consumer's principal dwelling in which the annual percentage rate may increase after consummation. The requirements of thisparagraph (c) The disclosures required by thisparagraph (c)shall be provided to consumers at least 60, but no more than 120, days before the first payment at the adjusted level is due. The disclosures shall be provided for ARMs with uniformly scheduled § 1026.20(d)was an estimate. The disclosures shall be provided to consumers as soon as practicable, but not less than 25 days before the first payment at the adjusted level is due. The current payment allocation disclosed shall be the payment allocation for the last payment prior to the date of the disclosure. (ii) A table containing the following information: (A) The current and new interest rates; (B) The date The specific index or formula used in making interest rate adjustments. The type and amount of any adjustment to the index. Any limits on the interest rate or payment increases at each interest rate adjustment. An explanation of how the new payment is determined, including: The index or formula used. The loan balance expected on the date of the interest rate adjustment. The length of the remaining loan term. If the new payment will result in negative amortization as a result of the interest rate adjustment, the statement shall set forth the payment required to amortize fully the remaining balance at the new interest rate over the remainder of the loan The creditor, assignee, or servicer of an adjustable-rate mortgage shall provide consumers with disclosures, as described in thisparagraph (d), in connection with the initial interest rate adjustment pursuant to the loan contract. The disclosures required by thisparagraph (d)shall be provided as a separate document from other documents provided by the creditor, assignee, or servicer. The disclosures shall be provided to consumers at least 210, but no more than 240 If the new interest rate is not known as of the date of the disclosure, an estimate shall be disclosed and labeled as such. The estimates shall be based on the calculation of the index reported in the source of information described inparagraph ( An explanation of the terms of the consumer's adjustable-rate mortgage. The amount of the current and new payment allocated to principal, interest, and taxes. The current payment allocation disclosed shall be the payment allocation for the last payment prior to the date of the disclosure. (iv) An explanation of how the interest rate is determined, including: The specific index or formula used in making interest rate Any limits on the interest rate or payment increases at each interest rate adjustment and over the life of the loan. (v) If the new interest rate or new payment provided is an estimate, a statement that another disclosure will be provided to the consumer between two and four months before the first payment at the adjusted level is due for interest rate adjustments. If applicable, A statement that the new payment will not be allocated to pay loan principal and will pay only part of the loan interest. The telephone number of the creditor, assignee, or servicer for consumers to call if they anticipate not being able The following alternatives to paying at the new rate that consumers may be able to pursue. The Web site to access either the Bureau list or the HUD list of homeownership counselors and counseling organizations. The HUD toll-free telephone number to access The disclosures required by thisparagraph (d) shall be provided in the form of a table and in the same order as, and with headings and format substantially similar to, forms H–4(D)(3) and (4 In a closed-end consumer credit transaction secured by a first lien on real property or a dwelling, other than a reverse mortgage subject to§ 1026.33, for which an escrow account was established in connection with the transaction A statement informing the consumer of the date on which the consumer will no longer have an escrow account. A table, titled “Cost to you,” that contains an itemization of the amount of any fee the creditor or A statement of the consequences if the consumer fails to pay property costs, including the actions that a State or local government may take if property taxes are not paid. A statement of whether the creditor or servicer offers the option of keeping the The creditor or servicer may, at its option, include its name, phone number, mailing address and property address, the issue date of the notice, the loan number, or the consumer's account number on the notice required by this The disclosure of the heading required byparagraph (e)(2)of this section shall be more conspicuous than, and shall precede, the other disclosures required by paragraph (e) (5)Timing—(i)Cance If the disclosures required byparagraph (e)(2)of this section are not provided to the consumer in person, the consumer is considered to have received the disclosures three business days after they are delivered or placed in the mail. (f\""
      ]
     },
     "execution_count": 46,
     "metadata": {},
     "output_type": "execute_result"
    }
   ],
   "source": [
    "first_summary = ' '.join([summ[0]['summary_text'] for summ in summaries])\n",
    "first_summary"
   ]
  },
  {
   "cell_type": "code",
   "execution_count": 38,
   "metadata": {},
   "outputs": [
    {
     "name": "stdout",
     "output_type": "stream",
     "text": [
      "Number of sentences: 31\n",
      "Number of text chunks: 7\n",
      "Processing chunk 1/7\n",
      "Processing chunk 2/7\n",
      "Processing chunk 3/7\n",
      "Processing chunk 4/7\n",
      "Processing chunk 5/7\n",
      "Processing chunk 6/7\n",
      "Processing chunk 7/7\n"
     ]
    }
   ],
   "source": [
    "# Step 1: Combine the initial summaries\n",
    "combined_summaries = \" \".join([summ[0]['summary_text'] for summ in summaries])\n",
    "\n",
    "# Split the combined summaries into sentences\n",
    "sentences = sent_tokenize(combined_summaries)\n",
    "\n",
    "# Create chunks\n",
    "chunks = chunk_sentences(sentences)\n",
    "\n",
    "print(\"Number of sentences:\", len(sentences))\n",
    "print(\"Number of text chunks:\", len(chunks))\n",
    "\n",
    "# Summarize each chunk\n",
    "secondary_summaries = []\n",
    "for i, chunk in enumerate(chunks):\n",
    "    print(f\"Processing chunk {i+1}/{len(chunks)}\")\n",
    "    next_sum = summarizer(chunk, max_length=max_length, min_length=5, do_sample=False)\n",
    "    secondary_summaries.append(next_sum)\n",
    "\n"
   ]
  },
  {
   "cell_type": "code",
   "execution_count": 43,
   "metadata": {},
   "outputs": [
    {
     "data": {
      "text/plain": [
       "\"Refinancing is a new transaction requiring new disclosures to the consumer. The new finance charge shall include any unearned portion of the old finance charge that is not credited to the existing obligation. The disclosures required by thisparagraph (c)shall be provided to consumers at least 60, but no more than 120, days before the first payment at the adjusted level is due. The disclosures shall be provided for ARMs with uniformly scheduled The creditor, assignee, or servicer of an adjustable-rate mortgage shall provide consumers with disclosures in connection with the initial interest rate adjustment pursuant to the loan contract. The disclosures shall be provided to consumers at least 210, but no The amount of the current and new payment allocated to principal, interest, and taxes. The current payment allocation disclosed shall be the payment allocation for the last payment prior to the date of the disclosure. A statement that the new payment will not be allocated to pay loan principal and will pay only part of the loan interest. The Web site to access either the Bureau list or the HUD list of homeownership counselors. The disclosures required by thisparagraph (d) shall be provided in the form of a table and in the same order as, and with headings and format substantially similar to, forms H–4(D)(3) and (4 The creditor or servicer may, at its option, include its name, phone number, mailing address and property address, the issue date of the notice, the loan number, or the consumer's account number on the notice required by this\""
      ]
     },
     "execution_count": 43,
     "metadata": {},
     "output_type": "execute_result"
    }
   ],
   "source": [
    "\n",
    "# Combine secondary summaries into a final summary\n",
    "secondary_summary = ' '.join([summary[0]['summary_text'] for summary in secondary_summaries])\n",
    "secondary_summary\n"
   ]
  },
  {
   "cell_type": "code",
   "execution_count": 44,
   "metadata": {},
   "outputs": [],
   "source": [
    "final_summary = summarizer(secondary_summary, do_sample=False)"
   ]
  },
  {
   "cell_type": "code",
   "execution_count": 45,
   "metadata": {},
   "outputs": [
    {
     "data": {
      "text/plain": [
       "'Refinancing is a new transaction requiring new disclosures to the consumer. The new finance charge shall include any unearned portion of the old finance charge. The amount of the current and new payment allocated to principal, interest, and taxes. A statement that the new payment will not be allocated to pay loan principal and will pay only part of the loan interest.'"
      ]
     },
     "execution_count": 45,
     "metadata": {},
     "output_type": "execute_result"
    }
   ],
   "source": [
    "final_summary[0]['summary_text']"
   ]
  }
 ],
 "metadata": {
  "kernelspec": {
   "display_name": "conda_env",
   "language": "python",
   "name": "python3"
  },
  "language_info": {
   "codemirror_mode": {
    "name": "ipython",
    "version": 3
   },
   "file_extension": ".py",
   "mimetype": "text/x-python",
   "name": "python",
   "nbconvert_exporter": "python",
   "pygments_lexer": "ipython3",
   "version": "3.11.6"
  }
 },
 "nbformat": 4,
 "nbformat_minor": 2
}
