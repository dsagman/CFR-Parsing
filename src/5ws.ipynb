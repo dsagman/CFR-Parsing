{
 "cells": [
  {
   "cell_type": "markdown",
   "metadata": {},
   "source": [
    "Try to extract the 5Ws from CFR text. Let's start by looking at 12 CFR 1026, Truth in Lending\n",
    "\n",
    "references:\n",
    "\n",
    "https://github.com/fhamborg/Giveme5W1H\n",
    "\n",
    "http://www.gipp.com/wp-content/papercite-data/pdf/hamborg2019b.pdf\n"
   ]
  },
  {
   "cell_type": "code",
   "execution_count": 1,
   "metadata": {},
   "outputs": [],
   "source": [
    "# %pip install giveme5w1h\n",
    "# %pip install tqdm\n",
    "# %pip install Iprogress\n",
    "# %pip install ipywidgets"
   ]
  },
  {
   "cell_type": "code",
   "execution_count": 5,
   "metadata": {},
   "outputs": [
    {
     "name": "stdout",
     "output_type": "stream",
     "text": [
      "Traceback (most recent call last):\n",
      "  File \"/Users/dsagman/Documents/CFR-Parsing/.venv/bin/giveme5w1h-rest\", line 5, in <module>\n",
      "    from Giveme5W1H.examples.extracting.server import main\n",
      "  File \"/Users/dsagman/Documents/CFR-Parsing/.venv/lib/python3.11/site-packages/Giveme5W1H/examples/extracting/server.py\", line 43, in <module>\n",
      "    loader=PackageLoader('Giveme5W1H.examples', 'Giveme5W1H.extracting'),\n",
      "           ^^^^^^^^^^^^^^^^^^^^^^^^^^^^^^^^^^^^^^^^^^^^^^^^^^^^^^^^^^^^^\n",
      "  File \"/Users/dsagman/Documents/CFR-Parsing/.venv/lib/python3.11/site-packages/jinja2/loaders.py\", line 323, in __init__\n",
      "    raise ValueError(\n",
      "ValueError: The 'Giveme5W1H.examples' package was not installed in a way that PackageLoader understands.\n"
     ]
    }
   ],
   "source": [
    "!giveme5w1h-rest"
   ]
  },
  {
   "cell_type": "code",
   "execution_count": 3,
   "metadata": {},
   "outputs": [],
   "source": [
    "# !giveme5w1h-corenlp"
   ]
  },
  {
   "cell_type": "code",
   "execution_count": 4,
   "metadata": {},
   "outputs": [],
   "source": [
    "from Giveme5W1H.extractor.document import Document\n",
    "from Giveme5W1H.extractor.extractor import MasterExtractor\n"
   ]
  },
  {
   "cell_type": "code",
   "execution_count": 5,
   "metadata": {},
   "outputs": [
    {
     "name": "stderr",
     "output_type": "stream",
     "text": [
      "No extractors passed: initializing default configuration.\n",
      "Could not find corpus for WordNet, will now try to download the corpus.\n",
      "[nltk_data] Downloading package wordnet to /Users/dsagman/nltk_data...\n",
      "[nltk_data]   Package wordnet is already up-to-date!\n",
      "No combinedScorers passed: initializing default configuration.\n"
     ]
    },
    {
     "ename": "AnnotationException",
     "evalue": "HTTPConnectionPool(host='localhost', port=9000): Max retries exceeded with url: /?properties=%7B%27outputFormat%27%3A+%27json%27%2C+%27timeout%27%3A+500000%2C+%27annotators%27%3A+%27tokenize%2Cssplit%2Cpos%2Clemma%2Cparse%2Cner%2Cdepparse%2Cmention%2Ccoref%27%2C+%27tokenize.language%27%3A+%27English%27%2C+%27date%27%3A+%272016-11-10+07%3A44%3A00%27%7D&resetDefault=false (Caused by NewConnectionError('<urllib3.connection.HTTPConnection object at 0x2a9cc65d0>: Failed to establish a new connection: [Errno 61] Connection refused'))",
     "output_type": "error",
     "traceback": [
      "\u001b[0;31m---------------------------------------------------------------------------\u001b[0m",
      "\u001b[0;31mConnectionRefusedError\u001b[0m                    Traceback (most recent call last)",
      "File \u001b[0;32m~/Documents/CFR-Parsing/.venv/lib/python3.11/site-packages/urllib3/connection.py:203\u001b[0m, in \u001b[0;36mHTTPConnection._new_conn\u001b[0;34m(self)\u001b[0m\n\u001b[1;32m    202\u001b[0m \u001b[39mtry\u001b[39;00m:\n\u001b[0;32m--> 203\u001b[0m     sock \u001b[39m=\u001b[39m connection\u001b[39m.\u001b[39;49mcreate_connection(\n\u001b[1;32m    204\u001b[0m         (\u001b[39mself\u001b[39;49m\u001b[39m.\u001b[39;49m_dns_host, \u001b[39mself\u001b[39;49m\u001b[39m.\u001b[39;49mport),\n\u001b[1;32m    205\u001b[0m         \u001b[39mself\u001b[39;49m\u001b[39m.\u001b[39;49mtimeout,\n\u001b[1;32m    206\u001b[0m         source_address\u001b[39m=\u001b[39;49m\u001b[39mself\u001b[39;49m\u001b[39m.\u001b[39;49msource_address,\n\u001b[1;32m    207\u001b[0m         socket_options\u001b[39m=\u001b[39;49m\u001b[39mself\u001b[39;49m\u001b[39m.\u001b[39;49msocket_options,\n\u001b[1;32m    208\u001b[0m     )\n\u001b[1;32m    209\u001b[0m \u001b[39mexcept\u001b[39;00m socket\u001b[39m.\u001b[39mgaierror \u001b[39mas\u001b[39;00m e:\n",
      "File \u001b[0;32m~/Documents/CFR-Parsing/.venv/lib/python3.11/site-packages/urllib3/util/connection.py:85\u001b[0m, in \u001b[0;36mcreate_connection\u001b[0;34m(address, timeout, source_address, socket_options)\u001b[0m\n\u001b[1;32m     84\u001b[0m \u001b[39mtry\u001b[39;00m:\n\u001b[0;32m---> 85\u001b[0m     \u001b[39mraise\u001b[39;00m err\n\u001b[1;32m     86\u001b[0m \u001b[39mfinally\u001b[39;00m:\n\u001b[1;32m     87\u001b[0m     \u001b[39m# Break explicitly a reference cycle\u001b[39;00m\n",
      "File \u001b[0;32m~/Documents/CFR-Parsing/.venv/lib/python3.11/site-packages/urllib3/util/connection.py:73\u001b[0m, in \u001b[0;36mcreate_connection\u001b[0;34m(address, timeout, source_address, socket_options)\u001b[0m\n\u001b[1;32m     72\u001b[0m     sock\u001b[39m.\u001b[39mbind(source_address)\n\u001b[0;32m---> 73\u001b[0m sock\u001b[39m.\u001b[39;49mconnect(sa)\n\u001b[1;32m     74\u001b[0m \u001b[39m# Break explicitly a reference cycle\u001b[39;00m\n",
      "\u001b[0;31mConnectionRefusedError\u001b[0m: [Errno 61] Connection refused",
      "\nThe above exception was the direct cause of the following exception:\n",
      "\u001b[0;31mNewConnectionError\u001b[0m                        Traceback (most recent call last)",
      "File \u001b[0;32m~/Documents/CFR-Parsing/.venv/lib/python3.11/site-packages/urllib3/connectionpool.py:790\u001b[0m, in \u001b[0;36mHTTPConnectionPool.urlopen\u001b[0;34m(self, method, url, body, headers, retries, redirect, assert_same_host, timeout, pool_timeout, release_conn, chunked, body_pos, preload_content, decode_content, **response_kw)\u001b[0m\n\u001b[1;32m    789\u001b[0m \u001b[39m# Make the request on the HTTPConnection object\u001b[39;00m\n\u001b[0;32m--> 790\u001b[0m response \u001b[39m=\u001b[39m \u001b[39mself\u001b[39;49m\u001b[39m.\u001b[39;49m_make_request(\n\u001b[1;32m    791\u001b[0m     conn,\n\u001b[1;32m    792\u001b[0m     method,\n\u001b[1;32m    793\u001b[0m     url,\n\u001b[1;32m    794\u001b[0m     timeout\u001b[39m=\u001b[39;49mtimeout_obj,\n\u001b[1;32m    795\u001b[0m     body\u001b[39m=\u001b[39;49mbody,\n\u001b[1;32m    796\u001b[0m     headers\u001b[39m=\u001b[39;49mheaders,\n\u001b[1;32m    797\u001b[0m     chunked\u001b[39m=\u001b[39;49mchunked,\n\u001b[1;32m    798\u001b[0m     retries\u001b[39m=\u001b[39;49mretries,\n\u001b[1;32m    799\u001b[0m     response_conn\u001b[39m=\u001b[39;49mresponse_conn,\n\u001b[1;32m    800\u001b[0m     preload_content\u001b[39m=\u001b[39;49mpreload_content,\n\u001b[1;32m    801\u001b[0m     decode_content\u001b[39m=\u001b[39;49mdecode_content,\n\u001b[1;32m    802\u001b[0m     \u001b[39m*\u001b[39;49m\u001b[39m*\u001b[39;49mresponse_kw,\n\u001b[1;32m    803\u001b[0m )\n\u001b[1;32m    805\u001b[0m \u001b[39m# Everything went great!\u001b[39;00m\n",
      "File \u001b[0;32m~/Documents/CFR-Parsing/.venv/lib/python3.11/site-packages/urllib3/connectionpool.py:496\u001b[0m, in \u001b[0;36mHTTPConnectionPool._make_request\u001b[0;34m(self, conn, method, url, body, headers, retries, timeout, chunked, response_conn, preload_content, decode_content, enforce_content_length)\u001b[0m\n\u001b[1;32m    495\u001b[0m \u001b[39mtry\u001b[39;00m:\n\u001b[0;32m--> 496\u001b[0m     conn\u001b[39m.\u001b[39;49mrequest(\n\u001b[1;32m    497\u001b[0m         method,\n\u001b[1;32m    498\u001b[0m         url,\n\u001b[1;32m    499\u001b[0m         body\u001b[39m=\u001b[39;49mbody,\n\u001b[1;32m    500\u001b[0m         headers\u001b[39m=\u001b[39;49mheaders,\n\u001b[1;32m    501\u001b[0m         chunked\u001b[39m=\u001b[39;49mchunked,\n\u001b[1;32m    502\u001b[0m         preload_content\u001b[39m=\u001b[39;49mpreload_content,\n\u001b[1;32m    503\u001b[0m         decode_content\u001b[39m=\u001b[39;49mdecode_content,\n\u001b[1;32m    504\u001b[0m         enforce_content_length\u001b[39m=\u001b[39;49menforce_content_length,\n\u001b[1;32m    505\u001b[0m     )\n\u001b[1;32m    507\u001b[0m \u001b[39m# We are swallowing BrokenPipeError (errno.EPIPE) since the server is\u001b[39;00m\n\u001b[1;32m    508\u001b[0m \u001b[39m# legitimately able to close the connection after sending a valid response.\u001b[39;00m\n\u001b[1;32m    509\u001b[0m \u001b[39m# With this behaviour, the received response is still readable.\u001b[39;00m\n",
      "File \u001b[0;32m~/Documents/CFR-Parsing/.venv/lib/python3.11/site-packages/urllib3/connection.py:395\u001b[0m, in \u001b[0;36mHTTPConnection.request\u001b[0;34m(self, method, url, body, headers, chunked, preload_content, decode_content, enforce_content_length)\u001b[0m\n\u001b[1;32m    394\u001b[0m     \u001b[39mself\u001b[39m\u001b[39m.\u001b[39mputheader(header, value)\n\u001b[0;32m--> 395\u001b[0m \u001b[39mself\u001b[39;49m\u001b[39m.\u001b[39;49mendheaders()\n\u001b[1;32m    397\u001b[0m \u001b[39m# If we're given a body we start sending that in chunks.\u001b[39;00m\n",
      "File \u001b[0;32m/opt/homebrew/Cellar/python@3.11/3.11.6_1/Frameworks/Python.framework/Versions/3.11/lib/python3.11/http/client.py:1281\u001b[0m, in \u001b[0;36mHTTPConnection.endheaders\u001b[0;34m(self, message_body, encode_chunked)\u001b[0m\n\u001b[1;32m   1280\u001b[0m     \u001b[39mraise\u001b[39;00m CannotSendHeader()\n\u001b[0;32m-> 1281\u001b[0m \u001b[39mself\u001b[39;49m\u001b[39m.\u001b[39;49m_send_output(message_body, encode_chunked\u001b[39m=\u001b[39;49mencode_chunked)\n",
      "File \u001b[0;32m/opt/homebrew/Cellar/python@3.11/3.11.6_1/Frameworks/Python.framework/Versions/3.11/lib/python3.11/http/client.py:1041\u001b[0m, in \u001b[0;36mHTTPConnection._send_output\u001b[0;34m(self, message_body, encode_chunked)\u001b[0m\n\u001b[1;32m   1040\u001b[0m \u001b[39mdel\u001b[39;00m \u001b[39mself\u001b[39m\u001b[39m.\u001b[39m_buffer[:]\n\u001b[0;32m-> 1041\u001b[0m \u001b[39mself\u001b[39;49m\u001b[39m.\u001b[39;49msend(msg)\n\u001b[1;32m   1043\u001b[0m \u001b[39mif\u001b[39;00m message_body \u001b[39mis\u001b[39;00m \u001b[39mnot\u001b[39;00m \u001b[39mNone\u001b[39;00m:\n\u001b[1;32m   1044\u001b[0m \n\u001b[1;32m   1045\u001b[0m     \u001b[39m# create a consistent interface to message_body\u001b[39;00m\n",
      "File \u001b[0;32m/opt/homebrew/Cellar/python@3.11/3.11.6_1/Frameworks/Python.framework/Versions/3.11/lib/python3.11/http/client.py:979\u001b[0m, in \u001b[0;36mHTTPConnection.send\u001b[0;34m(self, data)\u001b[0m\n\u001b[1;32m    978\u001b[0m \u001b[39mif\u001b[39;00m \u001b[39mself\u001b[39m\u001b[39m.\u001b[39mauto_open:\n\u001b[0;32m--> 979\u001b[0m     \u001b[39mself\u001b[39;49m\u001b[39m.\u001b[39;49mconnect()\n\u001b[1;32m    980\u001b[0m \u001b[39melse\u001b[39;00m:\n",
      "File \u001b[0;32m~/Documents/CFR-Parsing/.venv/lib/python3.11/site-packages/urllib3/connection.py:243\u001b[0m, in \u001b[0;36mHTTPConnection.connect\u001b[0;34m(self)\u001b[0m\n\u001b[1;32m    242\u001b[0m \u001b[39mdef\u001b[39;00m \u001b[39mconnect\u001b[39m(\u001b[39mself\u001b[39m) \u001b[39m-\u001b[39m\u001b[39m>\u001b[39m \u001b[39mNone\u001b[39;00m:\n\u001b[0;32m--> 243\u001b[0m     \u001b[39mself\u001b[39m\u001b[39m.\u001b[39msock \u001b[39m=\u001b[39m \u001b[39mself\u001b[39;49m\u001b[39m.\u001b[39;49m_new_conn()\n\u001b[1;32m    244\u001b[0m     \u001b[39mif\u001b[39;00m \u001b[39mself\u001b[39m\u001b[39m.\u001b[39m_tunnel_host:\n\u001b[1;32m    245\u001b[0m         \u001b[39m# If we're tunneling it means we're connected to our proxy.\u001b[39;00m\n",
      "File \u001b[0;32m~/Documents/CFR-Parsing/.venv/lib/python3.11/site-packages/urllib3/connection.py:218\u001b[0m, in \u001b[0;36mHTTPConnection._new_conn\u001b[0;34m(self)\u001b[0m\n\u001b[1;32m    217\u001b[0m \u001b[39mexcept\u001b[39;00m \u001b[39mOSError\u001b[39;00m \u001b[39mas\u001b[39;00m e:\n\u001b[0;32m--> 218\u001b[0m     \u001b[39mraise\u001b[39;00m NewConnectionError(\n\u001b[1;32m    219\u001b[0m         \u001b[39mself\u001b[39m, \u001b[39mf\u001b[39m\u001b[39m\"\u001b[39m\u001b[39mFailed to establish a new connection: \u001b[39m\u001b[39m{\u001b[39;00me\u001b[39m}\u001b[39;00m\u001b[39m\"\u001b[39m\n\u001b[1;32m    220\u001b[0m     ) \u001b[39mfrom\u001b[39;00m \u001b[39me\u001b[39;00m\n\u001b[1;32m    222\u001b[0m \u001b[39m# Audit hooks are only available in Python 3.8+\u001b[39;00m\n",
      "\u001b[0;31mNewConnectionError\u001b[0m: <urllib3.connection.HTTPConnection object at 0x2a9cc65d0>: Failed to establish a new connection: [Errno 61] Connection refused",
      "\nThe above exception was the direct cause of the following exception:\n",
      "\u001b[0;31mMaxRetryError\u001b[0m                             Traceback (most recent call last)",
      "File \u001b[0;32m~/Documents/CFR-Parsing/.venv/lib/python3.11/site-packages/requests/adapters.py:486\u001b[0m, in \u001b[0;36mHTTPAdapter.send\u001b[0;34m(self, request, stream, timeout, verify, cert, proxies)\u001b[0m\n\u001b[1;32m    485\u001b[0m \u001b[39mtry\u001b[39;00m:\n\u001b[0;32m--> 486\u001b[0m     resp \u001b[39m=\u001b[39m conn\u001b[39m.\u001b[39;49murlopen(\n\u001b[1;32m    487\u001b[0m         method\u001b[39m=\u001b[39;49mrequest\u001b[39m.\u001b[39;49mmethod,\n\u001b[1;32m    488\u001b[0m         url\u001b[39m=\u001b[39;49murl,\n\u001b[1;32m    489\u001b[0m         body\u001b[39m=\u001b[39;49mrequest\u001b[39m.\u001b[39;49mbody,\n\u001b[1;32m    490\u001b[0m         headers\u001b[39m=\u001b[39;49mrequest\u001b[39m.\u001b[39;49mheaders,\n\u001b[1;32m    491\u001b[0m         redirect\u001b[39m=\u001b[39;49m\u001b[39mFalse\u001b[39;49;00m,\n\u001b[1;32m    492\u001b[0m         assert_same_host\u001b[39m=\u001b[39;49m\u001b[39mFalse\u001b[39;49;00m,\n\u001b[1;32m    493\u001b[0m         preload_content\u001b[39m=\u001b[39;49m\u001b[39mFalse\u001b[39;49;00m,\n\u001b[1;32m    494\u001b[0m         decode_content\u001b[39m=\u001b[39;49m\u001b[39mFalse\u001b[39;49;00m,\n\u001b[1;32m    495\u001b[0m         retries\u001b[39m=\u001b[39;49m\u001b[39mself\u001b[39;49m\u001b[39m.\u001b[39;49mmax_retries,\n\u001b[1;32m    496\u001b[0m         timeout\u001b[39m=\u001b[39;49mtimeout,\n\u001b[1;32m    497\u001b[0m         chunked\u001b[39m=\u001b[39;49mchunked,\n\u001b[1;32m    498\u001b[0m     )\n\u001b[1;32m    500\u001b[0m \u001b[39mexcept\u001b[39;00m (ProtocolError, \u001b[39mOSError\u001b[39;00m) \u001b[39mas\u001b[39;00m err:\n",
      "File \u001b[0;32m~/Documents/CFR-Parsing/.venv/lib/python3.11/site-packages/urllib3/connectionpool.py:844\u001b[0m, in \u001b[0;36mHTTPConnectionPool.urlopen\u001b[0;34m(self, method, url, body, headers, retries, redirect, assert_same_host, timeout, pool_timeout, release_conn, chunked, body_pos, preload_content, decode_content, **response_kw)\u001b[0m\n\u001b[1;32m    842\u001b[0m     new_e \u001b[39m=\u001b[39m ProtocolError(\u001b[39m\"\u001b[39m\u001b[39mConnection aborted.\u001b[39m\u001b[39m\"\u001b[39m, new_e)\n\u001b[0;32m--> 844\u001b[0m retries \u001b[39m=\u001b[39m retries\u001b[39m.\u001b[39;49mincrement(\n\u001b[1;32m    845\u001b[0m     method, url, error\u001b[39m=\u001b[39;49mnew_e, _pool\u001b[39m=\u001b[39;49m\u001b[39mself\u001b[39;49m, _stacktrace\u001b[39m=\u001b[39;49msys\u001b[39m.\u001b[39;49mexc_info()[\u001b[39m2\u001b[39;49m]\n\u001b[1;32m    846\u001b[0m )\n\u001b[1;32m    847\u001b[0m retries\u001b[39m.\u001b[39msleep()\n",
      "File \u001b[0;32m~/Documents/CFR-Parsing/.venv/lib/python3.11/site-packages/urllib3/util/retry.py:515\u001b[0m, in \u001b[0;36mRetry.increment\u001b[0;34m(self, method, url, response, error, _pool, _stacktrace)\u001b[0m\n\u001b[1;32m    514\u001b[0m     reason \u001b[39m=\u001b[39m error \u001b[39mor\u001b[39;00m ResponseError(cause)\n\u001b[0;32m--> 515\u001b[0m     \u001b[39mraise\u001b[39;00m MaxRetryError(_pool, url, reason) \u001b[39mfrom\u001b[39;00m \u001b[39mreason\u001b[39;00m  \u001b[39m# type: ignore[arg-type]\u001b[39;00m\n\u001b[1;32m    517\u001b[0m log\u001b[39m.\u001b[39mdebug(\u001b[39m\"\u001b[39m\u001b[39mIncremented Retry for (url=\u001b[39m\u001b[39m'\u001b[39m\u001b[39m%s\u001b[39;00m\u001b[39m'\u001b[39m\u001b[39m): \u001b[39m\u001b[39m%r\u001b[39;00m\u001b[39m\"\u001b[39m, url, new_retry)\n",
      "\u001b[0;31mMaxRetryError\u001b[0m: HTTPConnectionPool(host='localhost', port=9000): Max retries exceeded with url: /?properties=%7B%27outputFormat%27%3A+%27json%27%2C+%27timeout%27%3A+500000%2C+%27annotators%27%3A+%27tokenize%2Cssplit%2Cpos%2Clemma%2Cparse%2Cner%2Cdepparse%2Cmention%2Ccoref%27%2C+%27tokenize.language%27%3A+%27English%27%2C+%27date%27%3A+%272016-11-10+07%3A44%3A00%27%7D&resetDefault=false (Caused by NewConnectionError('<urllib3.connection.HTTPConnection object at 0x2a9cc65d0>: Failed to establish a new connection: [Errno 61] Connection refused'))",
      "\nDuring handling of the above exception, another exception occurred:\n",
      "\u001b[0;31mConnectionError\u001b[0m                           Traceback (most recent call last)",
      "File \u001b[0;32m~/Documents/CFR-Parsing/.venv/lib/python3.11/site-packages/stanza/server/client.py:461\u001b[0m, in \u001b[0;36mCoreNLPClient._request\u001b[0;34m(self, buf, properties, reset_default, **kwargs)\u001b[0m\n\u001b[1;32m    460\u001b[0m     kwargs\u001b[39m.\u001b[39mpop(\u001b[39m'\u001b[39m\u001b[39mpassword\u001b[39m\u001b[39m'\u001b[39m)\n\u001b[0;32m--> 461\u001b[0m r \u001b[39m=\u001b[39m requests\u001b[39m.\u001b[39;49mpost(\u001b[39mself\u001b[39;49m\u001b[39m.\u001b[39;49mendpoint,\n\u001b[1;32m    462\u001b[0m                   params\u001b[39m=\u001b[39;49m{\u001b[39m'\u001b[39;49m\u001b[39mproperties\u001b[39;49m\u001b[39m'\u001b[39;49m: \u001b[39mstr\u001b[39;49m(properties), \u001b[39m'\u001b[39;49m\u001b[39mresetDefault\u001b[39;49m\u001b[39m'\u001b[39;49m: \u001b[39mstr\u001b[39;49m(reset_default)\u001b[39m.\u001b[39;49mlower()},\n\u001b[1;32m    463\u001b[0m                   data\u001b[39m=\u001b[39;49mbuf, headers\u001b[39m=\u001b[39;49m{\u001b[39m'\u001b[39;49m\u001b[39mcontent-type\u001b[39;49m\u001b[39m'\u001b[39;49m: ctype},\n\u001b[1;32m    464\u001b[0m                   timeout\u001b[39m=\u001b[39;49m(\u001b[39mself\u001b[39;49m\u001b[39m.\u001b[39;49mtimeout\u001b[39m*\u001b[39;49m\u001b[39m2\u001b[39;49m)\u001b[39m/\u001b[39;49m\u001b[39m1000\u001b[39;49m, \u001b[39m*\u001b[39;49m\u001b[39m*\u001b[39;49mkwargs)\n\u001b[1;32m    465\u001b[0m r\u001b[39m.\u001b[39mraise_for_status()\n",
      "File \u001b[0;32m~/Documents/CFR-Parsing/.venv/lib/python3.11/site-packages/requests/api.py:115\u001b[0m, in \u001b[0;36mpost\u001b[0;34m(url, data, json, **kwargs)\u001b[0m\n\u001b[1;32m    104\u001b[0m \u001b[39m\u001b[39m\u001b[39mr\u001b[39m\u001b[39m\"\"\"Sends a POST request.\u001b[39;00m\n\u001b[1;32m    105\u001b[0m \n\u001b[1;32m    106\u001b[0m \u001b[39m:param url: URL for the new :class:`Request` object.\u001b[39;00m\n\u001b[0;32m   (...)\u001b[0m\n\u001b[1;32m    112\u001b[0m \u001b[39m:rtype: requests.Response\u001b[39;00m\n\u001b[1;32m    113\u001b[0m \u001b[39m\"\"\"\u001b[39;00m\n\u001b[0;32m--> 115\u001b[0m \u001b[39mreturn\u001b[39;00m request(\u001b[39m\"\u001b[39;49m\u001b[39mpost\u001b[39;49m\u001b[39m\"\u001b[39;49m, url, data\u001b[39m=\u001b[39;49mdata, json\u001b[39m=\u001b[39;49mjson, \u001b[39m*\u001b[39;49m\u001b[39m*\u001b[39;49mkwargs)\n",
      "File \u001b[0;32m~/Documents/CFR-Parsing/.venv/lib/python3.11/site-packages/requests/api.py:59\u001b[0m, in \u001b[0;36mrequest\u001b[0;34m(method, url, **kwargs)\u001b[0m\n\u001b[1;32m     58\u001b[0m \u001b[39mwith\u001b[39;00m sessions\u001b[39m.\u001b[39mSession() \u001b[39mas\u001b[39;00m session:\n\u001b[0;32m---> 59\u001b[0m     \u001b[39mreturn\u001b[39;00m session\u001b[39m.\u001b[39;49mrequest(method\u001b[39m=\u001b[39;49mmethod, url\u001b[39m=\u001b[39;49murl, \u001b[39m*\u001b[39;49m\u001b[39m*\u001b[39;49mkwargs)\n",
      "File \u001b[0;32m~/Documents/CFR-Parsing/.venv/lib/python3.11/site-packages/requests/sessions.py:589\u001b[0m, in \u001b[0;36mSession.request\u001b[0;34m(self, method, url, params, data, headers, cookies, files, auth, timeout, allow_redirects, proxies, hooks, stream, verify, cert, json)\u001b[0m\n\u001b[1;32m    588\u001b[0m send_kwargs\u001b[39m.\u001b[39mupdate(settings)\n\u001b[0;32m--> 589\u001b[0m resp \u001b[39m=\u001b[39m \u001b[39mself\u001b[39;49m\u001b[39m.\u001b[39;49msend(prep, \u001b[39m*\u001b[39;49m\u001b[39m*\u001b[39;49msend_kwargs)\n\u001b[1;32m    591\u001b[0m \u001b[39mreturn\u001b[39;00m resp\n",
      "File \u001b[0;32m~/Documents/CFR-Parsing/.venv/lib/python3.11/site-packages/requests/sessions.py:703\u001b[0m, in \u001b[0;36mSession.send\u001b[0;34m(self, request, **kwargs)\u001b[0m\n\u001b[1;32m    702\u001b[0m \u001b[39m# Send the request\u001b[39;00m\n\u001b[0;32m--> 703\u001b[0m r \u001b[39m=\u001b[39m adapter\u001b[39m.\u001b[39;49msend(request, \u001b[39m*\u001b[39;49m\u001b[39m*\u001b[39;49mkwargs)\n\u001b[1;32m    705\u001b[0m \u001b[39m# Total elapsed time of the request (approximately)\u001b[39;00m\n",
      "File \u001b[0;32m~/Documents/CFR-Parsing/.venv/lib/python3.11/site-packages/requests/adapters.py:519\u001b[0m, in \u001b[0;36mHTTPAdapter.send\u001b[0;34m(self, request, stream, timeout, verify, cert, proxies)\u001b[0m\n\u001b[1;32m    517\u001b[0m         \u001b[39mraise\u001b[39;00m SSLError(e, request\u001b[39m=\u001b[39mrequest)\n\u001b[0;32m--> 519\u001b[0m     \u001b[39mraise\u001b[39;00m \u001b[39mConnectionError\u001b[39;00m(e, request\u001b[39m=\u001b[39mrequest)\n\u001b[1;32m    521\u001b[0m \u001b[39mexcept\u001b[39;00m ClosedPoolError \u001b[39mas\u001b[39;00m e:\n",
      "\u001b[0;31mConnectionError\u001b[0m: HTTPConnectionPool(host='localhost', port=9000): Max retries exceeded with url: /?properties=%7B%27outputFormat%27%3A+%27json%27%2C+%27timeout%27%3A+500000%2C+%27annotators%27%3A+%27tokenize%2Cssplit%2Cpos%2Clemma%2Cparse%2Cner%2Cdepparse%2Cmention%2Ccoref%27%2C+%27tokenize.language%27%3A+%27English%27%2C+%27date%27%3A+%272016-11-10+07%3A44%3A00%27%7D&resetDefault=false (Caused by NewConnectionError('<urllib3.connection.HTTPConnection object at 0x2a9cc65d0>: Failed to establish a new connection: [Errno 61] Connection refused'))",
      "\nThe above exception was the direct cause of the following exception:\n",
      "\u001b[0;31mAnnotationException\u001b[0m                       Traceback (most recent call last)",
      "\u001b[1;32m/Users/dsagman/Documents/CFR-Parsing/src/5ws.ipynb Cell 6\u001b[0m line \u001b[0;36m8\n\u001b[1;32m     <a href='vscode-notebook-cell:/Users/dsagman/Documents/CFR-Parsing/src/5ws.ipynb#W4sZmlsZQ%3D%3D?line=76'>77</a>\u001b[0m extractor \u001b[39m=\u001b[39m MasterExtractor()\n\u001b[1;32m     <a href='vscode-notebook-cell:/Users/dsagman/Documents/CFR-Parsing/src/5ws.ipynb#W4sZmlsZQ%3D%3D?line=77'>78</a>\u001b[0m doc \u001b[39m=\u001b[39m Document\u001b[39m.\u001b[39mfrom_text(titleshort, date_publish)\n\u001b[0;32m---> <a href='vscode-notebook-cell:/Users/dsagman/Documents/CFR-Parsing/src/5ws.ipynb#W4sZmlsZQ%3D%3D?line=79'>80</a>\u001b[0m doc \u001b[39m=\u001b[39m extractor\u001b[39m.\u001b[39;49mparse(doc)\n\u001b[1;32m     <a href='vscode-notebook-cell:/Users/dsagman/Documents/CFR-Parsing/src/5ws.ipynb#W4sZmlsZQ%3D%3D?line=81'>82</a>\u001b[0m top_who_answer \u001b[39m=\u001b[39m doc\u001b[39m.\u001b[39mget_top_answer(\u001b[39m'\u001b[39m\u001b[39mwho\u001b[39m\u001b[39m'\u001b[39m)\u001b[39m.\u001b[39mget_parts_as_text()\n\u001b[1;32m     <a href='vscode-notebook-cell:/Users/dsagman/Documents/CFR-Parsing/src/5ws.ipynb#W4sZmlsZQ%3D%3D?line=82'>83</a>\u001b[0m top_what_answer \u001b[39m=\u001b[39m doc\u001b[39m.\u001b[39mget_top_answer(\u001b[39m'\u001b[39m\u001b[39mwhat\u001b[39m\u001b[39m'\u001b[39m)\u001b[39m.\u001b[39mget_parts_as_text()\n",
      "File \u001b[0;32m~/Documents/CFR-Parsing/.venv/lib/python3.11/site-packages/Giveme5W1H/extractor/extractor.py:104\u001b[0m, in \u001b[0;36mMasterExtractor.parse\u001b[0;34m(self, doc)\u001b[0m\n\u001b[1;32m     95\u001b[0m \u001b[39m\u001b[39m\u001b[39m\"\"\"\u001b[39;00m\n\u001b[1;32m     96\u001b[0m \u001b[39mPass a document to the preprocessor and the extractors\u001b[39;00m\n\u001b[1;32m     97\u001b[0m \n\u001b[0;32m   (...)\u001b[0m\n\u001b[1;32m    101\u001b[0m \u001b[39m:return: the processed document\u001b[39;00m\n\u001b[1;32m    102\u001b[0m \u001b[39m\"\"\"\u001b[39;00m\n\u001b[1;32m    103\u001b[0m \u001b[39m# preprocess -> coreNLP and enhancer\u001b[39;00m\n\u001b[0;32m--> 104\u001b[0m \u001b[39mself\u001b[39;49m\u001b[39m.\u001b[39;49mpreprocess(doc)\n\u001b[1;32m    106\u001b[0m \u001b[39m# run extractors in different threads\u001b[39;00m\n\u001b[1;32m    107\u001b[0m \u001b[39mfor\u001b[39;00m extractor \u001b[39min\u001b[39;00m \u001b[39mself\u001b[39m\u001b[39m.\u001b[39mextractors:\n",
      "File \u001b[0;32m~/Documents/CFR-Parsing/.venv/lib/python3.11/site-packages/Giveme5W1H/extractor/extractor.py:87\u001b[0m, in \u001b[0;36mMasterExtractor.preprocess\u001b[0;34m(self, doc)\u001b[0m\n\u001b[1;32m     85\u001b[0m \u001b[39mdef\u001b[39;00m \u001b[39mpreprocess\u001b[39m(\u001b[39mself\u001b[39m, doc):\n\u001b[1;32m     86\u001b[0m     \u001b[39mif\u001b[39;00m \u001b[39mnot\u001b[39;00m doc\u001b[39m.\u001b[39mis_preprocessed():\n\u001b[0;32m---> 87\u001b[0m         \u001b[39mself\u001b[39;49m\u001b[39m.\u001b[39;49mpreprocessor\u001b[39m.\u001b[39;49mpreprocess(doc)\n\u001b[1;32m     89\u001b[0m         \u001b[39m# enhancer parsing\u001b[39;00m\n\u001b[1;32m     90\u001b[0m         \u001b[39mif\u001b[39;00m \u001b[39mself\u001b[39m\u001b[39m.\u001b[39menhancement:\n",
      "File \u001b[0;32m~/Documents/CFR-Parsing/.venv/lib/python3.11/site-packages/Giveme5W1H/extractor/preprocessors/preprocessor_core_nlp.py:111\u001b[0m, in \u001b[0;36mPreprocessor.preprocess\u001b[0;34m(self, document)\u001b[0m\n\u001b[1;32m    102\u001b[0m \u001b[39m\u001b[39m\u001b[39m\"\"\"\u001b[39;00m\n\u001b[1;32m    103\u001b[0m \u001b[39mSend the document to CoreNLP server to execute the necessary preprocessing.\u001b[39;00m\n\u001b[1;32m    104\u001b[0m \n\u001b[0;32m   (...)\u001b[0m\n\u001b[1;32m    108\u001b[0m \u001b[39m:return Document: The processed Document object.\u001b[39;00m\n\u001b[1;32m    109\u001b[0m \u001b[39m\"\"\"\u001b[39;00m\n\u001b[1;32m    110\u001b[0m actual_config \u001b[39m=\u001b[39m \u001b[39mself\u001b[39m\u001b[39m.\u001b[39m_build_actual_config(document)\n\u001b[0;32m--> 111\u001b[0m annotation \u001b[39m=\u001b[39m \u001b[39mself\u001b[39;49m\u001b[39m.\u001b[39;49mcnlp\u001b[39m.\u001b[39;49mannotate(text\u001b[39m=\u001b[39;49mdocument\u001b[39m.\u001b[39;49mget_full_text(),\n\u001b[1;32m    112\u001b[0m                                 properties \u001b[39m=\u001b[39;49m actual_config)\n\u001b[1;32m    114\u001b[0m \u001b[39mif\u001b[39;00m \u001b[39mtype\u001b[39m(annotation) \u001b[39mis\u001b[39;00m \u001b[39mstr\u001b[39m:\n\u001b[1;32m    115\u001b[0m     \u001b[39mprint\u001b[39m(annotation)\n",
      "File \u001b[0;32m~/Documents/CFR-Parsing/.venv/lib/python3.11/site-packages/stanza/server/client.py:536\u001b[0m, in \u001b[0;36mCoreNLPClient.annotate\u001b[0;34m(self, text, annotators, output_format, properties, reset_default, **kwargs)\u001b[0m\n\u001b[1;32m    534\u001b[0m \u001b[39mif\u001b[39;00m reset_default \u001b[39mis\u001b[39;00m \u001b[39mNone\u001b[39;00m:\n\u001b[1;32m    535\u001b[0m     reset_default \u001b[39m=\u001b[39m \u001b[39mFalse\u001b[39;00m\n\u001b[0;32m--> 536\u001b[0m r \u001b[39m=\u001b[39m \u001b[39mself\u001b[39;49m\u001b[39m.\u001b[39;49m_request(text\u001b[39m.\u001b[39;49mencode(\u001b[39m'\u001b[39;49m\u001b[39mutf-8\u001b[39;49m\u001b[39m'\u001b[39;49m), request_properties, reset_default, \u001b[39m*\u001b[39;49m\u001b[39m*\u001b[39;49mkwargs)\n\u001b[1;32m    537\u001b[0m \u001b[39mif\u001b[39;00m request_properties[\u001b[39m\"\u001b[39m\u001b[39moutputFormat\u001b[39m\u001b[39m\"\u001b[39m] \u001b[39m==\u001b[39m \u001b[39m\"\u001b[39m\u001b[39mjson\u001b[39m\u001b[39m\"\u001b[39m:\n\u001b[1;32m    538\u001b[0m     \u001b[39mreturn\u001b[39;00m r\u001b[39m.\u001b[39mjson()\n",
      "File \u001b[0;32m~/Documents/CFR-Parsing/.venv/lib/python3.11/site-packages/stanza/server/client.py:473\u001b[0m, in \u001b[0;36mCoreNLPClient._request\u001b[0;34m(self, buf, properties, reset_default, **kwargs)\u001b[0m\n\u001b[1;32m    471\u001b[0m     \u001b[39mraise\u001b[39;00m AnnotationException(e\u001b[39m.\u001b[39mresponse\u001b[39m.\u001b[39mtext) \u001b[39mfrom\u001b[39;00m \u001b[39me\u001b[39;00m\n\u001b[1;32m    472\u001b[0m \u001b[39melif\u001b[39;00m e\u001b[39m.\u001b[39margs:\n\u001b[0;32m--> 473\u001b[0m     \u001b[39mraise\u001b[39;00m AnnotationException(e\u001b[39m.\u001b[39margs[\u001b[39m0\u001b[39m]) \u001b[39mfrom\u001b[39;00m \u001b[39me\u001b[39;00m\n\u001b[1;32m    474\u001b[0m \u001b[39mraise\u001b[39;00m AnnotationException() \u001b[39mfrom\u001b[39;00m \u001b[39me\u001b[39;00m\n",
      "\u001b[0;31mAnnotationException\u001b[0m: HTTPConnectionPool(host='localhost', port=9000): Max retries exceeded with url: /?properties=%7B%27outputFormat%27%3A+%27json%27%2C+%27timeout%27%3A+500000%2C+%27annotators%27%3A+%27tokenize%2Cssplit%2Cpos%2Clemma%2Cparse%2Cner%2Cdepparse%2Cmention%2Ccoref%27%2C+%27tokenize.language%27%3A+%27English%27%2C+%27date%27%3A+%272016-11-10+07%3A44%3A00%27%7D&resetDefault=false (Caused by NewConnectionError('<urllib3.connection.HTTPConnection object at 0x2a9cc65d0>: Failed to establish a new connection: [Errno 61] Connection refused'))"
     ]
    }
   ],
   "source": [
    "\n",
    "import logging\n",
    "\n",
    "from Giveme5W1H.extractor.document import Document\n",
    "from Giveme5W1H.extractor.extractor import MasterExtractor\n",
    "\n",
    "\"\"\"\n",
    "This is a simple example how to use the extractor in combination with a dict in news-please format.\n",
    "\n",
    "- Nothing is cached\n",
    "\n",
    "\"\"\"\n",
    "\n",
    "# don`t forget to start up core_nlp_host\n",
    "# giveme5w1h-corenlp\n",
    "\n",
    "titleshort = \"Barack Obama was born in Hawaii.  He is the president. Obama was elected in 2008.\"\n",
    "\n",
    "title = \"Taliban attacks German consulate in northern Afghan city of Mazar-i-Sharif with truck bomb\"\n",
    "lead = \"The death toll from a powerful Taliban truck bombing at the German consulate in Afghanistan's Mazar-i-Sharif city rose to at least six Friday, with more than 100 others wounded in a major militant assault.\"\n",
    "text = \"\"\"The Taliban said the bombing late Thursday, which tore a massive crater in the road and overturned cars, was a \"revenge attack\" for US air strikes this month in the volatile province of Kunduz that left 32 civilians dead.\n",
    "\n",
    "The explosion, followed by sporadic gunfire, reverberated across the usually tranquil northern city, smashing windows of nearby shops and leaving terrified local residents fleeing for cover.\n",
    "\n",
    "\"The suicide attacker rammed his explosives-laden car into the wall of the German consulate,\" local police chief Sayed Kamal Sadat told AFP.\n",
    "\n",
    "All German staff from the consulate were unharmed, according to the foreign ministry in Berlin.\n",
    "\n",
    "But seven Afghan civilians were killed, including two motorcyclists who were shot dead by German forces close to the consulate after they refused to heed their warning to stop, said deputy police chief Abdul Razaq Qadri.\n",
    "\n",
    "A suspect had also been detained near the diplomatic mission on Friday morning, Qadri added.\n",
    "\n",
    "Local doctor Noor Mohammad Fayez said the city hospitals received six dead bodies, including two killed by bullets.\n",
    "\n",
    "At least 128 others were wounded, some of them critically and many with shrapnel injuries, he added.\n",
    "\n",
    "\"The consulate building has been heavily damaged,\" the German foreign ministry said in a statement. \"Our sympathies go out to the Afghan injured and their families.\"\n",
    "\n",
    "A diplomatic source in Berlin said Foreign Minister Frank-Walter Steinmeier had convened a crisis meeting.\n",
    "\n",
    "\"There was fighting outside and on the grounds of the consulate,\" a ministry spokesman said. \"Afghan security forces and Resolute Support (NATO) forces from Camp Marmal (German base in Mazar-i-Sharif) are on the scene.\"\n",
    "\n",
    "Afghan special forces have cordoned off the consulate, previously well-known as Mazar Hotel, as helicopters flew over the site and ambulances with wailing sirens rushed to the area after the explosion.\n",
    "\n",
    "The carnage underscores worsening insecurity in Afghanistan as Taliban insurgents ramp up nationwide attacks despite repeated government attempts to jump-start stalled peace negotiations.\n",
    "\n",
    "Taliban spokesman Zabihullah Mujahid said the \"martyrdom attack\" on the consulate had left \"tens of invaders\" dead. The insurgents routinely exaggerate battlefield claims.\n",
    "\n",
    "Posting a Google Earth image of the consulate on Twitter, Mujahid said the assault was in retaliation for American air strikes in Kunduz.\n",
    "\n",
    "US forces conceded last week that its air strikes \"very likely\" resulted in civilian casualties in Kunduz, pledging a full investigation into the incident.\n",
    "\n",
    "The strikes killed several children, after a Taliban assault left two American soldiers and three Afghan special forces soldiers dead near Kunduz city.\n",
    "\n",
    "The strikes triggered impassioned protests in Kunduz city, with the victims' relatives parading mutilated bodies of dead children piled into open trucks through the streets.\n",
    "\n",
    "Civilian casualties caused by NATO forces have been one of the most contentious issues in the 15-year campaign against the insurgents, prompting strong public and government criticism.\n",
    "\n",
    "The country's worsening conflict has prompted US forces to step up air strikes to support their struggling Afghan counterparts, fuelling the perception that they are increasingly being drawn back into the conflict.\n",
    "\n",
    "The latest attack in Mazar-i-Sharif comes just two days after a bitter US presidential election.\n",
    "\n",
    "Afghanistan got scarcely a passing mention in the election campaign - even though the situation there will be an urgent matter for the new president.\n",
    "\n",
    "President-elect Donald Trump is set to inherit America's longest war with no end in sight.\n",
    "\"\"\"\n",
    "date_publish = '2016-11-10 07:44:00'\n",
    "\n",
    "if __name__ == '__main__':\n",
    "    # logger setup\n",
    "    log = logging.getLogger('GiveMe5W')\n",
    "    log.setLevel(logging.DEBUG)\n",
    "    sh = logging.StreamHandler()\n",
    "    sh.setLevel(logging.DEBUG)\n",
    "    log.addHandler(sh)\n",
    "\n",
    "    # giveme5w setup - with defaults\n",
    "    extractor = MasterExtractor()\n",
    "    doc = Document.from_text(titleshort, date_publish)\n",
    "\n",
    "    doc = extractor.parse(doc)\n",
    "\n",
    "    top_who_answer = doc.get_top_answer('who').get_parts_as_text()\n",
    "    top_what_answer = doc.get_top_answer('what').get_parts_as_text()\n",
    "    top_when_answer = doc.get_top_answer('when').get_parts_as_text()\n",
    "    top_where_answer = doc.get_top_answer('where').get_parts_as_text()\n",
    "    top_why_answer = doc.get_top_answer('why').get_parts_as_text()\n",
    "    top_how_answer = doc.get_top_answer('how').get_parts_as_text()\n",
    "\n",
    "    print(top_who_answer)\n",
    "    print(top_what_answer)\n",
    "    print(top_when_answer)\n",
    "    print(top_where_answer)\n",
    "    print(top_why_answer)\n",
    "    print(top_how_answer)\n"
   ]
  }
 ],
 "metadata": {
  "kernelspec": {
   "display_name": ".venv",
   "language": "python",
   "name": "python3"
  },
  "language_info": {
   "codemirror_mode": {
    "name": "ipython",
    "version": 3
   },
   "file_extension": ".py",
   "mimetype": "text/x-python",
   "name": "python",
   "nbconvert_exporter": "python",
   "pygments_lexer": "ipython3",
   "version": "3.11.6"
  }
 },
 "nbformat": 4,
 "nbformat_minor": 2
}
