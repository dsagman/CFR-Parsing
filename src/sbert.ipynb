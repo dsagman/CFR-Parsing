{
 "cells": [
  {
   "cell_type": "markdown",
   "metadata": {},
   "source": [
    "Using SBERT to find similar sentences\n",
    "\n",
    "references: \n",
    "\n",
    "https://medium.com/mlearning-ai/nice-classification-recommendation-using-sentence-bert-b1af32d0131e\n",
    "\n",
    "https://www.sbert.net/docs/usage/semantic_textual_similarity.html\n",
    "\n",
    "https://www.sbert.net/examples/applications/paraphrase-mining/README.html\n"
   ]
  },
  {
   "cell_type": "code",
   "execution_count": 12,
   "metadata": {},
   "outputs": [],
   "source": [
    "# %pip install sentence-transformers\n",
    "# %pip install pandas \n",
    "# %pip install numpy\n",
    "# %pip install iProgress\n",
    "# %pip install pyarrow"
   ]
  },
  {
   "cell_type": "code",
   "execution_count": 4,
   "metadata": {},
   "outputs": [],
   "source": [
    "import pandas as pd\n",
    "import numpy as np\n",
    "from sentence_transformers import SentenceTransformer, util\n",
    "import os"
   ]
  },
  {
   "cell_type": "code",
   "execution_count": 5,
   "metadata": {},
   "outputs": [
    {
     "name": "stdout",
     "output_type": "stream",
     "text": [
      "<class 'pandas.core.frame.DataFrame'>\n",
      "RangeIndex: 117306 entries, 0 to 117305\n",
      "Data columns (total 6 columns):\n",
      " #   Column        Non-Null Count   Dtype \n",
      "---  ------        --------------   ----- \n",
      " 0   p_id          117306 non-null  object\n",
      " 1   text          117306 non-null  object\n",
      " 2   child_ids     117306 non-null  object\n",
      " 3   cfr_links     117306 non-null  object\n",
      " 4   other_links   117306 non-null  object\n",
      " 5   link_targets  117306 non-null  object\n",
      "dtypes: object(6)\n",
      "memory usage: 5.4+ MB\n"
     ]
    }
   ],
   "source": [
    "# load the dataframe \n",
    "title_number = \"12\"\n",
    "df = pd.read_parquet(f\"../dataframe/{title_number}.parquet\")\n",
    "df.info()\n"
   ]
  },
  {
   "cell_type": "code",
   "execution_count": 38,
   "metadata": {},
   "outputs": [],
   "source": [
    "# Rather than use the whole title, let's just use a sample\n",
    "# sample_size = 1000\n",
    "# df_sample = df[:sample_size]\n",
    "# df_sample.info()"
   ]
  },
  {
   "cell_type": "code",
   "execution_count": 6,
   "metadata": {},
   "outputs": [
    {
     "name": "stdout",
     "output_type": "stream",
     "text": [
      "Loaded embeddings from file\n",
      "Shape of embeddings =  (117306, 384)\n"
     ]
    }
   ],
   "source": [
    "#Load the SBERT model\n",
    "#Takes 26 minutes to train on my non-GPU notebook \n",
    "#12th Gen Intel i7-1260P (16) @ 4.700GHz, 32MB RAM\n",
    "sbert_model = SentenceTransformer('all-MiniLM-L6-v2')\n",
    "batch_size = 128\n",
    "\n",
    "#Create the sentence embeddings, but load if it already exists\n",
    "try:\n",
    "    sentence_embeddings = np.load(f\"../embeddings/{title_number}_sentence_embeddings.npz\")['arr_0']\n",
    "    loaded_from_file = True\n",
    "    print(\"Loaded embeddings from file\")\n",
    "except:\n",
    "    loaded_from_file = False\n",
    "    sentence_embeddings = sbert_model.encode(df['text'], batch_size=batch_size, show_progress_bar=True)\n",
    "print(\"Shape of embeddings = \", sentence_embeddings.shape)\n",
    "# sentence_embeddings[0]"
   ]
  },
  {
   "cell_type": "code",
   "execution_count": 18,
   "metadata": {},
   "outputs": [],
   "source": [
    "# save the embeddings\n",
    "if not loaded_from_file:\n",
    "    os.makedirs(\"../embeddings\", exist_ok=True)\n",
    "    np.savez_compressed(f\"../embeddings/{title_number}_sentence_embeddings.npz\", sentence_embeddings)"
   ]
  },
  {
   "cell_type": "code",
   "execution_count": 7,
   "metadata": {},
   "outputs": [
    {
     "name": "stdout",
     "output_type": "stream",
     "text": [
      "Shape of query embeddings =  (384,)\n"
     ]
    },
    {
     "data": {
      "text/plain": [
       "array([ 5.91303371e-02, -1.95154548e-02, -1.11426674e-01, -4.59476113e-02,\n",
       "        4.77450751e-02, -1.45432446e-02,  1.18169308e-01,  4.30162959e-02,\n",
       "        6.08329214e-02,  2.20794547e-02,  2.04844810e-02, -3.52502894e-03,\n",
       "       -2.57739406e-02,  2.98646186e-02, -1.88654009e-02, -1.28724888e-01,\n",
       "       -3.17814350e-02, -8.15166458e-02,  3.34218256e-02,  4.53867838e-02,\n",
       "        1.01521527e-02, -9.76839513e-02, -2.55921241e-02, -5.80615066e-02,\n",
       "        4.22886126e-02, -6.87428042e-02,  7.68356537e-03, -6.73987940e-02,\n",
       "       -4.39192094e-02, -3.06874160e-02,  3.07181831e-02,  1.34405317e-02,\n",
       "       -6.44062310e-02, -3.01571917e-02, -9.87631008e-02,  4.14445922e-02,\n",
       "       -1.03652785e-02,  6.69279024e-02, -8.52424093e-03, -6.00034744e-03,\n",
       "       -5.64419627e-02, -7.73332641e-02,  4.14895192e-02, -9.66644939e-03,\n",
       "        1.03060119e-02,  4.74466830e-02,  1.29400725e-02,  9.49913487e-02,\n",
       "       -6.34720251e-02, -9.37494263e-03, -2.63000205e-02,  2.90465448e-03,\n",
       "        1.06465761e-02,  2.83194017e-02, -7.76439011e-02,  5.36075048e-03,\n",
       "        1.02369398e-01, -2.42365710e-02,  6.89843576e-03, -2.50678789e-02,\n",
       "       -1.53304487e-02,  4.21070568e-02, -3.35068554e-02, -8.06077290e-03,\n",
       "       -4.09511430e-03,  9.35944449e-03, -3.94496461e-03,  7.49031156e-02,\n",
       "        1.01812016e-02, -1.94570865e-03,  2.47793049e-02, -1.31923407e-01,\n",
       "       -6.95907176e-02, -7.00807273e-02,  1.32682417e-02,  2.01893449e-02,\n",
       "        1.87441446e-02,  8.86225328e-02,  1.69460587e-02,  2.66858004e-02,\n",
       "        1.62309650e-02,  4.09227572e-02,  7.23686144e-02, -3.30434963e-02,\n",
       "        2.03633942e-02,  5.71451709e-02, -2.87349094e-02, -1.17162680e-02,\n",
       "       -1.04223443e-02, -5.13926521e-02, -1.65078975e-02,  4.71999720e-02,\n",
       "       -3.24727409e-02,  1.12656709e-02,  1.20125255e-02, -8.33994150e-02,\n",
       "       -2.25603003e-02, -4.54337262e-02,  6.51647300e-02, -2.46836599e-02,\n",
       "        6.15541376e-02,  6.48687258e-02,  2.81069819e-02, -1.54244471e-02,\n",
       "        2.89937351e-02, -4.45556967e-03,  4.14740816e-02,  3.61087881e-02,\n",
       "        1.03140734e-01, -4.41060290e-02, -1.21930294e-01,  7.95107856e-02,\n",
       "        5.28446352e-03, -1.32852159e-02, -3.00275497e-02,  5.58552220e-02,\n",
       "       -1.49030864e-01, -9.77502111e-03,  6.02306165e-02,  3.05464584e-02,\n",
       "        6.03820421e-02,  7.77937397e-02, -3.37372199e-02, -5.34198657e-02,\n",
       "       -4.94126752e-02, -9.62784141e-03, -4.99326959e-02, -8.12497746e-34,\n",
       "       -9.69222635e-02,  2.36470681e-02,  2.66680438e-02, -4.03076485e-02,\n",
       "       -4.82045300e-02, -2.72352397e-02,  1.00720264e-02, -3.79179828e-02,\n",
       "        4.13683727e-02, -5.61842397e-02, -3.32195424e-02,  3.52483131e-02,\n",
       "        3.85132842e-02,  8.90554860e-02, -5.55328466e-03, -9.35142338e-02,\n",
       "       -3.66212078e-03,  9.32320729e-02,  1.64085537e-01,  7.29166865e-02,\n",
       "        1.04512349e-01,  9.02986340e-03,  5.65095618e-02, -4.33271080e-02,\n",
       "        1.53873518e-01, -3.47693153e-02, -5.78728803e-02,  3.27796340e-02,\n",
       "        9.75702032e-02,  7.50231603e-03,  5.30027449e-02, -3.06726042e-02,\n",
       "       -2.99893878e-02,  7.76486064e-04, -2.38799285e-02, -5.84239722e-04,\n",
       "       -5.55849727e-03, -5.68549000e-02,  2.56283861e-02, -2.69260667e-02,\n",
       "       -1.35669811e-03, -3.80722992e-02,  3.53928842e-02,  3.71186659e-02,\n",
       "       -9.13565978e-02,  7.49207735e-02,  2.37738360e-02,  4.86932583e-02,\n",
       "       -4.52710222e-03,  2.78498363e-02, -1.72463078e-02, -8.18758234e-02,\n",
       "       -1.19401507e-01, -6.12474754e-02, -2.41032150e-02, -5.34595251e-02,\n",
       "       -3.92190106e-02, -7.30242953e-02, -3.32991853e-02, -7.79138431e-02,\n",
       "       -4.97842208e-03, -3.68207209e-02, -6.74087927e-02,  4.78779431e-03,\n",
       "       -5.20667806e-02, -1.51129458e-02,  2.92495135e-02, -4.68682870e-02,\n",
       "       -2.07188651e-02,  1.08381165e-02, -1.00975469e-01,  5.87808713e-02,\n",
       "        6.67215064e-02, -2.66820602e-02, -2.48416215e-02, -3.61670926e-02,\n",
       "       -6.88221976e-02,  2.89075654e-02,  4.84767929e-02,  8.36709663e-02,\n",
       "       -2.14633979e-02, -2.57677827e-02,  5.47614321e-03, -1.14512723e-02,\n",
       "        6.20487109e-02,  4.27098908e-02,  6.80944463e-03,  1.57699808e-02,\n",
       "       -1.72638074e-02, -7.63374791e-02, -4.91424799e-02, -6.69712108e-03,\n",
       "       -2.32316945e-02, -8.90492555e-03,  6.56357631e-02, -2.41180988e-33,\n",
       "       -2.71499176e-02, -1.00304047e-02,  4.53024730e-02,  5.52566536e-02,\n",
       "        3.33522283e-03,  3.65612060e-02,  2.88802683e-02, -2.34429929e-02,\n",
       "        6.16255142e-02,  6.80797324e-02, -1.25408515e-01,  1.16409557e-02,\n",
       "       -1.18833967e-02, -1.60261430e-02, -5.10659888e-02, -1.58262283e-01,\n",
       "       -2.58519202e-02,  3.28976987e-03,  6.17355015e-03, -2.29865778e-02,\n",
       "       -2.21536569e-02,  1.05372705e-02,  8.84233415e-02, -1.91124287e-02,\n",
       "        3.07517350e-02, -4.63130491e-05, -9.80781019e-02,  7.26845209e-03,\n",
       "       -5.23027107e-02,  2.18023285e-02,  1.33866761e-02, -3.21655720e-02,\n",
       "       -3.33565585e-02,  6.32351041e-02, -7.76763111e-02, -1.50946416e-02,\n",
       "        5.52441254e-02,  4.70357612e-02,  2.84159668e-02,  2.41771378e-02,\n",
       "        3.89365442e-02,  9.80505813e-03,  8.24199691e-02, -4.04972434e-02,\n",
       "       -1.14967534e-02, -1.04407305e-02, -7.65436590e-02,  5.90303913e-02,\n",
       "        1.76166277e-02, -9.38597172e-02,  2.57291533e-02, -6.67800149e-03,\n",
       "       -6.98336959e-03, -1.93157848e-02, -4.46806513e-02,  9.86612290e-02,\n",
       "        1.34885862e-01, -6.25118427e-03,  2.06506196e-02, -9.98875964e-03,\n",
       "       -8.18030443e-03, -4.43918891e-02, -1.58028980e-03,  5.38588390e-02,\n",
       "       -2.15389226e-02, -2.59492379e-02,  5.04342765e-02,  2.24493518e-02,\n",
       "       -3.00998148e-03, -4.49428475e-03,  5.80943115e-02,  3.94594707e-02,\n",
       "        4.91126142e-02,  2.69226022e-02,  2.22089682e-02,  4.79292087e-02,\n",
       "        5.50458208e-03, -1.96590573e-02,  3.93138044e-02, -2.95533184e-02,\n",
       "        5.70758060e-02, -2.56804731e-02,  5.53220436e-02, -1.32012768e-02,\n",
       "       -4.37679701e-03, -7.67021850e-02,  4.86459546e-02, -1.35311559e-01,\n",
       "        3.40313744e-03, -1.01253524e-01, -9.38366503e-02, -9.59560648e-02,\n",
       "        1.21201262e-01,  2.47915164e-02, -1.92329623e-02, -2.36080080e-08,\n",
       "       -1.96017046e-02, -2.79300716e-02,  8.91772285e-02, -1.09967310e-02,\n",
       "       -3.17352898e-02, -1.51985232e-02, -1.88560095e-02,  4.31392901e-02,\n",
       "        3.29024792e-02, -3.59133184e-02, -8.33332911e-02,  6.17655404e-02,\n",
       "       -9.99022042e-04, -2.34610736e-02,  2.62256749e-02, -2.02956274e-02,\n",
       "        5.19972183e-02, -2.29665041e-02, -5.31233102e-03, -1.42798563e-02,\n",
       "        7.91233033e-03, -4.22484521e-03,  3.79254832e-03,  9.66622587e-03,\n",
       "        7.61413649e-02, -2.26695999e-03,  6.78753778e-02,  8.45284313e-02,\n",
       "        3.26669216e-02,  1.59456618e-02, -2.08499916e-02, -3.26903574e-02,\n",
       "        1.84006672e-02,  3.05029862e-02, -2.95753628e-02,  1.55033078e-02,\n",
       "        8.36358890e-02,  7.73477508e-03, -3.06058172e-02,  4.82146889e-02,\n",
       "        1.88158898e-04, -6.23815767e-02, -2.54668798e-02, -4.29137908e-02,\n",
       "        1.97170991e-02,  1.31268594e-02, -9.92798209e-02, -2.67241690e-02,\n",
       "        3.09232306e-02, -2.31362432e-02,  5.00680320e-02, -2.32670289e-02,\n",
       "        5.45945168e-02,  3.18227969e-02, -2.57676821e-02, -1.35488454e-02,\n",
       "       -6.69950843e-02, -4.57807891e-02,  4.25358675e-02,  1.18876053e-02,\n",
       "        3.91699262e-02,  6.63214363e-03,  9.34060961e-02, -1.04919663e-02],\n",
       "      dtype=float32)"
      ]
     },
     "execution_count": 7,
     "metadata": {},
     "output_type": "execute_result"
    }
   ],
   "source": [
    "\n",
    "#Create the sentence embeddings for the example product description\n",
    "\n",
    "query = 'Transfer of fund via electronic methods such as ATM, POS, internet banking, mobile banking, etc.'\n",
    "# query = 'personal trading of securities and other financial instruments for own account'\n",
    "query_vec = sbert_model.encode([query])[0]\n",
    "print(\"Shape of query embeddings = \", query_vec.shape)\n",
    "query_vec"
   ]
  },
  {
   "cell_type": "code",
   "execution_count": 20,
   "metadata": {},
   "outputs": [
    {
     "data": {
      "text/html": [
       "<style type=\"text/css\">\n",
       "#T_40d21_row0_col1, #T_40d21_row1_col1, #T_40d21_row2_col1, #T_40d21_row3_col1, #T_40d21_row4_col1 {\n",
       "  width-min: 50px;\n",
       "}\n",
       "</style>\n",
       "<table id=\"T_40d21\">\n",
       "  <thead>\n",
       "    <tr>\n",
       "      <th class=\"blank level0\" >&nbsp;</th>\n",
       "      <th id=\"T_40d21_level0_col0\" class=\"col_heading level0 col0\" >p_id</th>\n",
       "      <th id=\"T_40d21_level0_col1\" class=\"col_heading level0 col1\" >text</th>\n",
       "      <th id=\"T_40d21_level0_col2\" class=\"col_heading level0 col2\" >child_ids</th>\n",
       "      <th id=\"T_40d21_level0_col3\" class=\"col_heading level0 col3\" >cfr_links</th>\n",
       "      <th id=\"T_40d21_level0_col4\" class=\"col_heading level0 col4\" >other_links</th>\n",
       "      <th id=\"T_40d21_level0_col5\" class=\"col_heading level0 col5\" >link_targets</th>\n",
       "      <th id=\"T_40d21_level0_col6\" class=\"col_heading level0 col6\" >similarity</th>\n",
       "    </tr>\n",
       "  </thead>\n",
       "  <tbody>\n",
       "    <tr>\n",
       "      <th id=\"T_40d21_level0_row0\" class=\"row_heading level0 row0\" >18333</th>\n",
       "      <td id=\"T_40d21_row0_col0\" class=\"data row0 col0\" >205.3(b)</td>\n",
       "      <td id=\"T_40d21_row0_col1\" class=\"data row0 col1\" >(b)Electronic fund transfer—</td>\n",
       "      <td id=\"T_40d21_row0_col2\" class=\"data row0 col2\" >['205.3(b)(1)' '205.3(b)(1)(i)' '205.3(b)(1)(ii)' '205.3(b)(1)(iii)'\n",
       " '205.3(b)(1)(iv)' '205.3(b)(1)(v)' '205.3(b)(2)' '205.3(b)(2)(i)'\n",
       " '205.3(b)(2)(ii)' '205.3(b)(2)(iii)' '205.3(b)(2)(iv)' '205.3(b)(3)'\n",
       " '205.3(b)(3)(i)' '205.3(b)(3)(ii)' '205.3(b)(3)(iii)']</td>\n",
       "      <td id=\"T_40d21_row0_col3\" class=\"data row0 col3\" >['/on/2023-09-28/title-12/section-205.3#p-205.3(b)(2)(iii)'\n",
       " '/on/2023-09-28/title-12/section-205.3#p-205.3(b)(2)(iii)'\n",
       " '/on/2023-09-28/title-12/section-205.3#p-205.3(b)(2)'\n",
       " '/on/2023-09-28/title-12/section-205.3#p-205.3(b)(3)(ii)'\n",
       " '/on/2023-09-28/title-12/section-205.3#p-205.3(b)(3)(i)'\n",
       " '/on/2023-09-28/title-12/section-205.3#p-205.3(b)(3)(ii)']</td>\n",
       "      <td id=\"T_40d21_row0_col4\" class=\"data row0 col4\" >[]</td>\n",
       "      <td id=\"T_40d21_row0_col5\" class=\"data row0 col5\" >['205.3(b)(2)(iii)' '205.3(b)(2)(iii)' '205.3(b)(2)' '205.3(b)(3)(ii)'\n",
       " '205.3(b)(3)(i)' '205.3(b)(3)(ii)']</td>\n",
       "      <td id=\"T_40d21_row0_col6\" class=\"data row0 col6\" >0.738358</td>\n",
       "    </tr>\n",
       "    <tr>\n",
       "      <th id=\"T_40d21_level0_row1\" class=\"row_heading level0 row1\" >84092</th>\n",
       "      <td id=\"T_40d21_row1_col0\" class=\"data row1 col0\" >1005.3(b)</td>\n",
       "      <td id=\"T_40d21_row1_col1\" class=\"data row1 col1\" >(b)Electronic fund transfer—</td>\n",
       "      <td id=\"T_40d21_row1_col2\" class=\"data row1 col2\" >['1005.3(b)(1)' '1005.3(b)(1)(i)' '1005.3(b)(1)(ii)' '1005.3(b)(1)(iii)'\n",
       " '1005.3(b)(1)(iv)' '1005.3(b)(1)(v)' '1005.3(b)(2)' '1005.3(b)(2)(i)'\n",
       " '1005.3(b)(2)(ii)' '1005.3(b)(2)(iii)' '1005.3(b)(3)' '1005.3(b)(3)(i)'\n",
       " '1005.3(b)(3)(ii)']</td>\n",
       "      <td id=\"T_40d21_row1_col3\" class=\"data row1 col3\" >['/on/2023-09-28/title-12/section-1005.3#p-1005.3(b)(2)'\n",
       " '/on/2023-09-28/title-12/section-1005.3#p-1005.3(b)(3)(ii)'\n",
       " '/on/2023-09-28/title-12/section-1005.3#p-1005.3(b)(3)(i)']</td>\n",
       "      <td id=\"T_40d21_row1_col4\" class=\"data row1 col4\" >[]</td>\n",
       "      <td id=\"T_40d21_row1_col5\" class=\"data row1 col5\" >['1005.3(b)(2)' '1005.3(b)(3)(ii)' '1005.3(b)(3)(i)']</td>\n",
       "      <td id=\"T_40d21_row1_col6\" class=\"data row1 col6\" >0.738358</td>\n",
       "    </tr>\n",
       "    <tr>\n",
       "      <th id=\"T_40d21_level0_row2\" class=\"row_heading level0 row2\" >18340</th>\n",
       "      <td id=\"T_40d21_row2_col0\" class=\"data row2 col0\" >205.3(b)(2)</td>\n",
       "      <td id=\"T_40d21_row2_col1\" class=\"data row2 col1\" >(2)Electronic fund transfer using information from a check.</td>\n",
       "      <td id=\"T_40d21_row2_col2\" class=\"data row2 col2\" >['205.3(b)(2)(i)' '205.3(b)(2)(ii)' '205.3(b)(2)(iii)' '205.3(b)(2)(iv)']</td>\n",
       "      <td id=\"T_40d21_row2_col3\" class=\"data row2 col3\" >['/on/2023-09-28/title-12/section-205.3#p-205.3(b)(2)(iii)'\n",
       " '/on/2023-09-28/title-12/section-205.3#p-205.3(b)(2)(iii)'\n",
       " '/on/2023-09-28/title-12/section-205.3#p-205.3(b)(2)']</td>\n",
       "      <td id=\"T_40d21_row2_col4\" class=\"data row2 col4\" >[]</td>\n",
       "      <td id=\"T_40d21_row2_col5\" class=\"data row2 col5\" >['205.3(b)(2)(iii)' '205.3(b)(2)(iii)' '205.3(b)(2)']</td>\n",
       "      <td id=\"T_40d21_row2_col6\" class=\"data row2 col6\" >0.731448</td>\n",
       "    </tr>\n",
       "    <tr>\n",
       "      <th id=\"T_40d21_level0_row3\" class=\"row_heading level0 row3\" >84099</th>\n",
       "      <td id=\"T_40d21_row3_col0\" class=\"data row3 col0\" >1005.3(b)(2)</td>\n",
       "      <td id=\"T_40d21_row3_col1\" class=\"data row3 col1\" >(2)Electronic fund transfer using information from a check.</td>\n",
       "      <td id=\"T_40d21_row3_col2\" class=\"data row3 col2\" >['1005.3(b)(2)(i)' '1005.3(b)(2)(ii)' '1005.3(b)(2)(iii)']</td>\n",
       "      <td id=\"T_40d21_row3_col3\" class=\"data row3 col3\" >['/on/2023-09-28/title-12/section-1005.3#p-1005.3(b)(2)']</td>\n",
       "      <td id=\"T_40d21_row3_col4\" class=\"data row3 col4\" >[]</td>\n",
       "      <td id=\"T_40d21_row3_col5\" class=\"data row3 col5\" >['1005.3(b)(2)']</td>\n",
       "      <td id=\"T_40d21_row3_col6\" class=\"data row3 col6\" >0.731448</td>\n",
       "    </tr>\n",
       "    <tr>\n",
       "      <th id=\"T_40d21_level0_row4\" class=\"row_heading level0 row4\" >85036</th>\n",
       "      <td id=\"T_40d21_row4_col0\" class=\"data row4 col0\" >Supplement-I-to-Part-1005 1.</td>\n",
       "      <td id=\"T_40d21_row4_col1\" class=\"data row4 col1\" >1.Fund transfers covered.The term “electronic fund transfer” includes:</td>\n",
       "      <td id=\"T_40d21_row4_col2\" class=\"data row4 col2\" >['Supplement-I-to-Part-1005(1.)(i.)' 'Supplement-I-to-Part-1005(1.)(ii.)'\n",
       " 'Supplement-I-to-Part-1005(1.)(iii.)'\n",
       " 'Supplement-I-to-Part-1005(1.)(iv.)' 'Supplement-I-to-Part-1005(1.)(v.)'\n",
       " 'Supplement-I-to-Part-1005(1.)(vi.)']</td>\n",
       "      <td id=\"T_40d21_row4_col3\" class=\"data row4 col3\" >[]</td>\n",
       "      <td id=\"T_40d21_row4_col4\" class=\"data row4 col4\" >[]</td>\n",
       "      <td id=\"T_40d21_row4_col5\" class=\"data row4 col5\" >[]</td>\n",
       "      <td id=\"T_40d21_row4_col6\" class=\"data row4 col6\" >0.730888</td>\n",
       "    </tr>\n",
       "  </tbody>\n",
       "</table>\n"
      ],
      "text/plain": [
       "<pandas.io.formats.style.Styler at 0x2b2206e50>"
      ]
     },
     "execution_count": 20,
     "metadata": {},
     "output_type": "execute_result"
    }
   ],
   "source": [
    "\n",
    "#Calculate the similarity of the query to each text block in the corpus\n",
    "def cosine(u, v):\n",
    "    return np.dot(u, v) / (np.linalg.norm(u) * np.linalg.norm(v))\n",
    "\n",
    "cfr_sim = []\n",
    "for cfr in sentence_embeddings:\n",
    "    cfr_sim.append(cosine(query_vec, cfr))\n",
    "\n",
    "df['similarity'] = cfr_sim\n",
    "\n",
    "#Display the top matches\n",
    "df.sort_values(by=['similarity'], ascending=False).head(5).style.set_properties(subset=['text'], **{'width-min': '50px'})"
   ]
  },
  {
   "cell_type": "code",
   "execution_count": 62,
   "metadata": {},
   "outputs": [
    {
     "data": {
      "text/html": [
       "<style type=\"text/css\">\n",
       "#T_893fc_row0_col1, #T_893fc_row1_col1, #T_893fc_row2_col1, #T_893fc_row3_col1, #T_893fc_row4_col1 {\n",
       "  width-min: 50px;\n",
       "}\n",
       "</style>\n",
       "<table id=\"T_893fc\">\n",
       "  <thead>\n",
       "    <tr>\n",
       "      <th class=\"blank level0\" >&nbsp;</th>\n",
       "      <th id=\"T_893fc_level0_col0\" class=\"col_heading level0 col0\" >p_id</th>\n",
       "      <th id=\"T_893fc_level0_col1\" class=\"col_heading level0 col1\" >text</th>\n",
       "      <th id=\"T_893fc_level0_col2\" class=\"col_heading level0 col2\" >score</th>\n",
       "    </tr>\n",
       "  </thead>\n",
       "  <tbody>\n",
       "    <tr>\n",
       "      <th id=\"T_893fc_level0_row0\" class=\"row_heading level0 row0\" >0</th>\n",
       "      <td id=\"T_893fc_row0_col0\" class=\"data row0 col0\" >205.3(b)</td>\n",
       "      <td id=\"T_893fc_row0_col1\" class=\"data row0 col1\" >(b)Electronic fund transfer—</td>\n",
       "      <td id=\"T_893fc_row0_col2\" class=\"data row0 col2\" >0.738359</td>\n",
       "    </tr>\n",
       "    <tr>\n",
       "      <th id=\"T_893fc_level0_row1\" class=\"row_heading level0 row1\" >1</th>\n",
       "      <td id=\"T_893fc_row1_col0\" class=\"data row1 col0\" >1005.3(b)</td>\n",
       "      <td id=\"T_893fc_row1_col1\" class=\"data row1 col1\" >(b)Electronic fund transfer—</td>\n",
       "      <td id=\"T_893fc_row1_col2\" class=\"data row1 col2\" >0.738359</td>\n",
       "    </tr>\n",
       "    <tr>\n",
       "      <th id=\"T_893fc_level0_row2\" class=\"row_heading level0 row2\" >2</th>\n",
       "      <td id=\"T_893fc_row2_col0\" class=\"data row2 col0\" >1005.3(b)(2)</td>\n",
       "      <td id=\"T_893fc_row2_col1\" class=\"data row2 col1\" >(2)Electronic fund transfer using information from a check.</td>\n",
       "      <td id=\"T_893fc_row2_col2\" class=\"data row2 col2\" >0.731448</td>\n",
       "    </tr>\n",
       "    <tr>\n",
       "      <th id=\"T_893fc_level0_row3\" class=\"row_heading level0 row3\" >3</th>\n",
       "      <td id=\"T_893fc_row3_col0\" class=\"data row3 col0\" >205.3(b)(2)</td>\n",
       "      <td id=\"T_893fc_row3_col1\" class=\"data row3 col1\" >(2)Electronic fund transfer using information from a check.</td>\n",
       "      <td id=\"T_893fc_row3_col2\" class=\"data row3 col2\" >0.731448</td>\n",
       "    </tr>\n",
       "    <tr>\n",
       "      <th id=\"T_893fc_level0_row4\" class=\"row_heading level0 row4\" >4</th>\n",
       "      <td id=\"T_893fc_row4_col0\" class=\"data row4 col0\" >Supplement-I-to-Part-1005 1.</td>\n",
       "      <td id=\"T_893fc_row4_col1\" class=\"data row4 col1\" >1.Fund transfers covered.The term “electronic fund transfer” includes:</td>\n",
       "      <td id=\"T_893fc_row4_col2\" class=\"data row4 col2\" >0.730888</td>\n",
       "    </tr>\n",
       "  </tbody>\n",
       "</table>\n"
      ],
      "text/plain": [
       "<pandas.io.formats.style.Styler at 0x7fb9cc499c90>"
      ]
     },
     "execution_count": 62,
     "metadata": {},
     "output_type": "execute_result"
    }
   ],
   "source": [
    "# using util, much simpler!\n",
    "result = util.semantic_search(query_vec, sentence_embeddings, top_k=5)\n",
    "result_p_id = [df.iloc[r.get('corpus_id')]['p_id'] for r in result[0]]\n",
    "result_text = [df.iloc[r.get('corpus_id')]['text'] for r in result[0]]\n",
    "result_score = [r.get('score') for r in result[0]]\n",
    "result_df = pd.DataFrame({'p_id': result_p_id, 'text': result_text, 'score': result_score})\n",
    "result_df.style.set_properties(subset=['text'], **{'width-min': '50px'})\n"
   ]
  },
  {
   "cell_type": "code",
   "execution_count": 23,
   "metadata": {},
   "outputs": [
    {
     "name": "stderr",
     "output_type": "stream",
     "text": [
      "Batches:   2%|▏         | 77/3666 [01:46<1:22:42,  1.38s/it]\n"
     ]
    },
    {
     "ename": "KeyboardInterrupt",
     "evalue": "",
     "output_type": "error",
     "traceback": [
      "\u001b[0;31m---------------------------------------------------------------------------\u001b[0m",
      "\u001b[0;31mKeyboardInterrupt\u001b[0m                         Traceback (most recent call last)",
      "\u001b[1;32m/home/agman/Documents/GitHub/CFR-Parsing/src/sbert.ipynb Cell 9\u001b[0m line \u001b[0;36m3\n\u001b[1;32m      <a href='vscode-notebook-cell:/home/agman/Documents/GitHub/CFR-Parsing/src/sbert.ipynb#X12sZmlsZQ%3D%3D?line=0'>1</a>\u001b[0m \u001b[39m# Now let's use the paraphrase model\u001b[39;00m\n\u001b[1;32m      <a href='vscode-notebook-cell:/home/agman/Documents/GitHub/CFR-Parsing/src/sbert.ipynb#X12sZmlsZQ%3D%3D?line=1'>2</a>\u001b[0m sentences \u001b[39m=\u001b[39m df[\u001b[39m'\u001b[39m\u001b[39mtext\u001b[39m\u001b[39m'\u001b[39m]\u001b[39m.\u001b[39mtolist()\n\u001b[0;32m----> <a href='vscode-notebook-cell:/home/agman/Documents/GitHub/CFR-Parsing/src/sbert.ipynb#X12sZmlsZQ%3D%3D?line=2'>3</a>\u001b[0m paraphrases \u001b[39m=\u001b[39m util\u001b[39m.\u001b[39;49mparaphrase_mining(sbert_model, sentences, \n\u001b[1;32m      <a href='vscode-notebook-cell:/home/agman/Documents/GitHub/CFR-Parsing/src/sbert.ipynb#X12sZmlsZQ%3D%3D?line=3'>4</a>\u001b[0m                                      query_chunk_size\u001b[39m=\u001b[39;49m\u001b[39m32\u001b[39;49m, corpus_chunk_size\u001b[39m=\u001b[39;49m\u001b[39mlen\u001b[39;49m(sentences),\n\u001b[1;32m      <a href='vscode-notebook-cell:/home/agman/Documents/GitHub/CFR-Parsing/src/sbert.ipynb#X12sZmlsZQ%3D%3D?line=4'>5</a>\u001b[0m                                      top_k\u001b[39m=\u001b[39;49m\u001b[39m1\u001b[39;49m, max_pairs\u001b[39m=\u001b[39;49m\u001b[39m100\u001b[39;49m,\n\u001b[1;32m      <a href='vscode-notebook-cell:/home/agman/Documents/GitHub/CFR-Parsing/src/sbert.ipynb#X12sZmlsZQ%3D%3D?line=5'>6</a>\u001b[0m                                      show_progress_bar\u001b[39m=\u001b[39;49m\u001b[39mTrue\u001b[39;49;00m)\n\u001b[1;32m      <a href='vscode-notebook-cell:/home/agman/Documents/GitHub/CFR-Parsing/src/sbert.ipynb#X12sZmlsZQ%3D%3D?line=7'>8</a>\u001b[0m \u001b[39mfor\u001b[39;00m paraphrase \u001b[39min\u001b[39;00m paraphrases[\u001b[39m0\u001b[39m:\u001b[39m10\u001b[39m]:\n\u001b[1;32m      <a href='vscode-notebook-cell:/home/agman/Documents/GitHub/CFR-Parsing/src/sbert.ipynb#X12sZmlsZQ%3D%3D?line=8'>9</a>\u001b[0m     score, i, j \u001b[39m=\u001b[39m paraphrase\n",
      "File \u001b[0;32m~/Documents/GitHub/CFR-Parsing/cfr/lib/python3.11/site-packages/sentence_transformers/util.py:130\u001b[0m, in \u001b[0;36mparaphrase_mining\u001b[0;34m(model, sentences, show_progress_bar, batch_size, *args, **kwargs)\u001b[0m\n\u001b[1;32m    113\u001b[0m \u001b[39m\u001b[39m\u001b[39m\"\"\"\u001b[39;00m\n\u001b[1;32m    114\u001b[0m \u001b[39mGiven a list of sentences / texts, this function performs paraphrase mining. It compares all sentences against all\u001b[39;00m\n\u001b[1;32m    115\u001b[0m \u001b[39mother sentences and returns a list with the pairs that have the highest cosine similarity score.\u001b[39;00m\n\u001b[0;32m   (...)\u001b[0m\n\u001b[1;32m    126\u001b[0m \u001b[39m:return: Returns a list of triplets with the format [score, id1, id2]\u001b[39;00m\n\u001b[1;32m    127\u001b[0m \u001b[39m\"\"\"\u001b[39;00m\n\u001b[1;32m    129\u001b[0m \u001b[39m# Compute embedding for the sentences\u001b[39;00m\n\u001b[0;32m--> 130\u001b[0m embeddings \u001b[39m=\u001b[39m model\u001b[39m.\u001b[39;49mencode(sentences, show_progress_bar\u001b[39m=\u001b[39;49mshow_progress_bar, batch_size\u001b[39m=\u001b[39;49mbatch_size, convert_to_tensor\u001b[39m=\u001b[39;49m\u001b[39mTrue\u001b[39;49;00m)\n\u001b[1;32m    132\u001b[0m \u001b[39mreturn\u001b[39;00m paraphrase_mining_embeddings(embeddings, \u001b[39m*\u001b[39margs, \u001b[39m*\u001b[39m\u001b[39m*\u001b[39mkwargs)\n",
      "File \u001b[0;32m~/Documents/GitHub/CFR-Parsing/cfr/lib/python3.11/site-packages/sentence_transformers/SentenceTransformer.py:165\u001b[0m, in \u001b[0;36mSentenceTransformer.encode\u001b[0;34m(self, sentences, batch_size, show_progress_bar, output_value, convert_to_numpy, convert_to_tensor, device, normalize_embeddings)\u001b[0m\n\u001b[1;32m    162\u001b[0m features \u001b[39m=\u001b[39m batch_to_device(features, device)\n\u001b[1;32m    164\u001b[0m \u001b[39mwith\u001b[39;00m torch\u001b[39m.\u001b[39mno_grad():\n\u001b[0;32m--> 165\u001b[0m     out_features \u001b[39m=\u001b[39m \u001b[39mself\u001b[39;49m\u001b[39m.\u001b[39;49mforward(features)\n\u001b[1;32m    167\u001b[0m     \u001b[39mif\u001b[39;00m output_value \u001b[39m==\u001b[39m \u001b[39m'\u001b[39m\u001b[39mtoken_embeddings\u001b[39m\u001b[39m'\u001b[39m:\n\u001b[1;32m    168\u001b[0m         embeddings \u001b[39m=\u001b[39m []\n",
      "File \u001b[0;32m~/Documents/GitHub/CFR-Parsing/cfr/lib/python3.11/site-packages/torch/nn/modules/container.py:215\u001b[0m, in \u001b[0;36mSequential.forward\u001b[0;34m(self, input)\u001b[0m\n\u001b[1;32m    213\u001b[0m \u001b[39mdef\u001b[39;00m \u001b[39mforward\u001b[39m(\u001b[39mself\u001b[39m, \u001b[39minput\u001b[39m):\n\u001b[1;32m    214\u001b[0m     \u001b[39mfor\u001b[39;00m module \u001b[39min\u001b[39;00m \u001b[39mself\u001b[39m:\n\u001b[0;32m--> 215\u001b[0m         \u001b[39minput\u001b[39m \u001b[39m=\u001b[39m module(\u001b[39minput\u001b[39;49m)\n\u001b[1;32m    216\u001b[0m     \u001b[39mreturn\u001b[39;00m \u001b[39minput\u001b[39m\n",
      "File \u001b[0;32m~/Documents/GitHub/CFR-Parsing/cfr/lib/python3.11/site-packages/torch/nn/modules/module.py:1518\u001b[0m, in \u001b[0;36mModule._wrapped_call_impl\u001b[0;34m(self, *args, **kwargs)\u001b[0m\n\u001b[1;32m   1516\u001b[0m     \u001b[39mreturn\u001b[39;00m \u001b[39mself\u001b[39m\u001b[39m.\u001b[39m_compiled_call_impl(\u001b[39m*\u001b[39margs, \u001b[39m*\u001b[39m\u001b[39m*\u001b[39mkwargs)  \u001b[39m# type: ignore[misc]\u001b[39;00m\n\u001b[1;32m   1517\u001b[0m \u001b[39melse\u001b[39;00m:\n\u001b[0;32m-> 1518\u001b[0m     \u001b[39mreturn\u001b[39;00m \u001b[39mself\u001b[39;49m\u001b[39m.\u001b[39;49m_call_impl(\u001b[39m*\u001b[39;49margs, \u001b[39m*\u001b[39;49m\u001b[39m*\u001b[39;49mkwargs)\n",
      "File \u001b[0;32m~/Documents/GitHub/CFR-Parsing/cfr/lib/python3.11/site-packages/torch/nn/modules/module.py:1527\u001b[0m, in \u001b[0;36mModule._call_impl\u001b[0;34m(self, *args, **kwargs)\u001b[0m\n\u001b[1;32m   1522\u001b[0m \u001b[39m# If we don't have any hooks, we want to skip the rest of the logic in\u001b[39;00m\n\u001b[1;32m   1523\u001b[0m \u001b[39m# this function, and just call forward.\u001b[39;00m\n\u001b[1;32m   1524\u001b[0m \u001b[39mif\u001b[39;00m \u001b[39mnot\u001b[39;00m (\u001b[39mself\u001b[39m\u001b[39m.\u001b[39m_backward_hooks \u001b[39mor\u001b[39;00m \u001b[39mself\u001b[39m\u001b[39m.\u001b[39m_backward_pre_hooks \u001b[39mor\u001b[39;00m \u001b[39mself\u001b[39m\u001b[39m.\u001b[39m_forward_hooks \u001b[39mor\u001b[39;00m \u001b[39mself\u001b[39m\u001b[39m.\u001b[39m_forward_pre_hooks\n\u001b[1;32m   1525\u001b[0m         \u001b[39mor\u001b[39;00m _global_backward_pre_hooks \u001b[39mor\u001b[39;00m _global_backward_hooks\n\u001b[1;32m   1526\u001b[0m         \u001b[39mor\u001b[39;00m _global_forward_hooks \u001b[39mor\u001b[39;00m _global_forward_pre_hooks):\n\u001b[0;32m-> 1527\u001b[0m     \u001b[39mreturn\u001b[39;00m forward_call(\u001b[39m*\u001b[39;49margs, \u001b[39m*\u001b[39;49m\u001b[39m*\u001b[39;49mkwargs)\n\u001b[1;32m   1529\u001b[0m \u001b[39mtry\u001b[39;00m:\n\u001b[1;32m   1530\u001b[0m     result \u001b[39m=\u001b[39m \u001b[39mNone\u001b[39;00m\n",
      "File \u001b[0;32m~/Documents/GitHub/CFR-Parsing/cfr/lib/python3.11/site-packages/sentence_transformers/models/Transformer.py:66\u001b[0m, in \u001b[0;36mTransformer.forward\u001b[0;34m(self, features)\u001b[0m\n\u001b[1;32m     63\u001b[0m \u001b[39mif\u001b[39;00m \u001b[39m'\u001b[39m\u001b[39mtoken_type_ids\u001b[39m\u001b[39m'\u001b[39m \u001b[39min\u001b[39;00m features:\n\u001b[1;32m     64\u001b[0m     trans_features[\u001b[39m'\u001b[39m\u001b[39mtoken_type_ids\u001b[39m\u001b[39m'\u001b[39m] \u001b[39m=\u001b[39m features[\u001b[39m'\u001b[39m\u001b[39mtoken_type_ids\u001b[39m\u001b[39m'\u001b[39m]\n\u001b[0;32m---> 66\u001b[0m output_states \u001b[39m=\u001b[39m \u001b[39mself\u001b[39;49m\u001b[39m.\u001b[39;49mauto_model(\u001b[39m*\u001b[39;49m\u001b[39m*\u001b[39;49mtrans_features, return_dict\u001b[39m=\u001b[39;49m\u001b[39mFalse\u001b[39;49;00m)\n\u001b[1;32m     67\u001b[0m output_tokens \u001b[39m=\u001b[39m output_states[\u001b[39m0\u001b[39m]\n\u001b[1;32m     69\u001b[0m features\u001b[39m.\u001b[39mupdate({\u001b[39m'\u001b[39m\u001b[39mtoken_embeddings\u001b[39m\u001b[39m'\u001b[39m: output_tokens, \u001b[39m'\u001b[39m\u001b[39mattention_mask\u001b[39m\u001b[39m'\u001b[39m: features[\u001b[39m'\u001b[39m\u001b[39mattention_mask\u001b[39m\u001b[39m'\u001b[39m]})\n",
      "File \u001b[0;32m~/Documents/GitHub/CFR-Parsing/cfr/lib/python3.11/site-packages/torch/nn/modules/module.py:1518\u001b[0m, in \u001b[0;36mModule._wrapped_call_impl\u001b[0;34m(self, *args, **kwargs)\u001b[0m\n\u001b[1;32m   1516\u001b[0m     \u001b[39mreturn\u001b[39;00m \u001b[39mself\u001b[39m\u001b[39m.\u001b[39m_compiled_call_impl(\u001b[39m*\u001b[39margs, \u001b[39m*\u001b[39m\u001b[39m*\u001b[39mkwargs)  \u001b[39m# type: ignore[misc]\u001b[39;00m\n\u001b[1;32m   1517\u001b[0m \u001b[39melse\u001b[39;00m:\n\u001b[0;32m-> 1518\u001b[0m     \u001b[39mreturn\u001b[39;00m \u001b[39mself\u001b[39;49m\u001b[39m.\u001b[39;49m_call_impl(\u001b[39m*\u001b[39;49margs, \u001b[39m*\u001b[39;49m\u001b[39m*\u001b[39;49mkwargs)\n",
      "File \u001b[0;32m~/Documents/GitHub/CFR-Parsing/cfr/lib/python3.11/site-packages/torch/nn/modules/module.py:1527\u001b[0m, in \u001b[0;36mModule._call_impl\u001b[0;34m(self, *args, **kwargs)\u001b[0m\n\u001b[1;32m   1522\u001b[0m \u001b[39m# If we don't have any hooks, we want to skip the rest of the logic in\u001b[39;00m\n\u001b[1;32m   1523\u001b[0m \u001b[39m# this function, and just call forward.\u001b[39;00m\n\u001b[1;32m   1524\u001b[0m \u001b[39mif\u001b[39;00m \u001b[39mnot\u001b[39;00m (\u001b[39mself\u001b[39m\u001b[39m.\u001b[39m_backward_hooks \u001b[39mor\u001b[39;00m \u001b[39mself\u001b[39m\u001b[39m.\u001b[39m_backward_pre_hooks \u001b[39mor\u001b[39;00m \u001b[39mself\u001b[39m\u001b[39m.\u001b[39m_forward_hooks \u001b[39mor\u001b[39;00m \u001b[39mself\u001b[39m\u001b[39m.\u001b[39m_forward_pre_hooks\n\u001b[1;32m   1525\u001b[0m         \u001b[39mor\u001b[39;00m _global_backward_pre_hooks \u001b[39mor\u001b[39;00m _global_backward_hooks\n\u001b[1;32m   1526\u001b[0m         \u001b[39mor\u001b[39;00m _global_forward_hooks \u001b[39mor\u001b[39;00m _global_forward_pre_hooks):\n\u001b[0;32m-> 1527\u001b[0m     \u001b[39mreturn\u001b[39;00m forward_call(\u001b[39m*\u001b[39;49margs, \u001b[39m*\u001b[39;49m\u001b[39m*\u001b[39;49mkwargs)\n\u001b[1;32m   1529\u001b[0m \u001b[39mtry\u001b[39;00m:\n\u001b[1;32m   1530\u001b[0m     result \u001b[39m=\u001b[39m \u001b[39mNone\u001b[39;00m\n",
      "File \u001b[0;32m~/Documents/GitHub/CFR-Parsing/cfr/lib/python3.11/site-packages/transformers/models/bert/modeling_bert.py:1013\u001b[0m, in \u001b[0;36mBertModel.forward\u001b[0;34m(self, input_ids, attention_mask, token_type_ids, position_ids, head_mask, inputs_embeds, encoder_hidden_states, encoder_attention_mask, past_key_values, use_cache, output_attentions, output_hidden_states, return_dict)\u001b[0m\n\u001b[1;32m   1004\u001b[0m head_mask \u001b[39m=\u001b[39m \u001b[39mself\u001b[39m\u001b[39m.\u001b[39mget_head_mask(head_mask, \u001b[39mself\u001b[39m\u001b[39m.\u001b[39mconfig\u001b[39m.\u001b[39mnum_hidden_layers)\n\u001b[1;32m   1006\u001b[0m embedding_output \u001b[39m=\u001b[39m \u001b[39mself\u001b[39m\u001b[39m.\u001b[39membeddings(\n\u001b[1;32m   1007\u001b[0m     input_ids\u001b[39m=\u001b[39minput_ids,\n\u001b[1;32m   1008\u001b[0m     position_ids\u001b[39m=\u001b[39mposition_ids,\n\u001b[0;32m   (...)\u001b[0m\n\u001b[1;32m   1011\u001b[0m     past_key_values_length\u001b[39m=\u001b[39mpast_key_values_length,\n\u001b[1;32m   1012\u001b[0m )\n\u001b[0;32m-> 1013\u001b[0m encoder_outputs \u001b[39m=\u001b[39m \u001b[39mself\u001b[39;49m\u001b[39m.\u001b[39;49mencoder(\n\u001b[1;32m   1014\u001b[0m     embedding_output,\n\u001b[1;32m   1015\u001b[0m     attention_mask\u001b[39m=\u001b[39;49mextended_attention_mask,\n\u001b[1;32m   1016\u001b[0m     head_mask\u001b[39m=\u001b[39;49mhead_mask,\n\u001b[1;32m   1017\u001b[0m     encoder_hidden_states\u001b[39m=\u001b[39;49mencoder_hidden_states,\n\u001b[1;32m   1018\u001b[0m     encoder_attention_mask\u001b[39m=\u001b[39;49mencoder_extended_attention_mask,\n\u001b[1;32m   1019\u001b[0m     past_key_values\u001b[39m=\u001b[39;49mpast_key_values,\n\u001b[1;32m   1020\u001b[0m     use_cache\u001b[39m=\u001b[39;49muse_cache,\n\u001b[1;32m   1021\u001b[0m     output_attentions\u001b[39m=\u001b[39;49moutput_attentions,\n\u001b[1;32m   1022\u001b[0m     output_hidden_states\u001b[39m=\u001b[39;49moutput_hidden_states,\n\u001b[1;32m   1023\u001b[0m     return_dict\u001b[39m=\u001b[39;49mreturn_dict,\n\u001b[1;32m   1024\u001b[0m )\n\u001b[1;32m   1025\u001b[0m sequence_output \u001b[39m=\u001b[39m encoder_outputs[\u001b[39m0\u001b[39m]\n\u001b[1;32m   1026\u001b[0m pooled_output \u001b[39m=\u001b[39m \u001b[39mself\u001b[39m\u001b[39m.\u001b[39mpooler(sequence_output) \u001b[39mif\u001b[39;00m \u001b[39mself\u001b[39m\u001b[39m.\u001b[39mpooler \u001b[39mis\u001b[39;00m \u001b[39mnot\u001b[39;00m \u001b[39mNone\u001b[39;00m \u001b[39melse\u001b[39;00m \u001b[39mNone\u001b[39;00m\n",
      "File \u001b[0;32m~/Documents/GitHub/CFR-Parsing/cfr/lib/python3.11/site-packages/torch/nn/modules/module.py:1518\u001b[0m, in \u001b[0;36mModule._wrapped_call_impl\u001b[0;34m(self, *args, **kwargs)\u001b[0m\n\u001b[1;32m   1516\u001b[0m     \u001b[39mreturn\u001b[39;00m \u001b[39mself\u001b[39m\u001b[39m.\u001b[39m_compiled_call_impl(\u001b[39m*\u001b[39margs, \u001b[39m*\u001b[39m\u001b[39m*\u001b[39mkwargs)  \u001b[39m# type: ignore[misc]\u001b[39;00m\n\u001b[1;32m   1517\u001b[0m \u001b[39melse\u001b[39;00m:\n\u001b[0;32m-> 1518\u001b[0m     \u001b[39mreturn\u001b[39;00m \u001b[39mself\u001b[39;49m\u001b[39m.\u001b[39;49m_call_impl(\u001b[39m*\u001b[39;49margs, \u001b[39m*\u001b[39;49m\u001b[39m*\u001b[39;49mkwargs)\n",
      "File \u001b[0;32m~/Documents/GitHub/CFR-Parsing/cfr/lib/python3.11/site-packages/torch/nn/modules/module.py:1527\u001b[0m, in \u001b[0;36mModule._call_impl\u001b[0;34m(self, *args, **kwargs)\u001b[0m\n\u001b[1;32m   1522\u001b[0m \u001b[39m# If we don't have any hooks, we want to skip the rest of the logic in\u001b[39;00m\n\u001b[1;32m   1523\u001b[0m \u001b[39m# this function, and just call forward.\u001b[39;00m\n\u001b[1;32m   1524\u001b[0m \u001b[39mif\u001b[39;00m \u001b[39mnot\u001b[39;00m (\u001b[39mself\u001b[39m\u001b[39m.\u001b[39m_backward_hooks \u001b[39mor\u001b[39;00m \u001b[39mself\u001b[39m\u001b[39m.\u001b[39m_backward_pre_hooks \u001b[39mor\u001b[39;00m \u001b[39mself\u001b[39m\u001b[39m.\u001b[39m_forward_hooks \u001b[39mor\u001b[39;00m \u001b[39mself\u001b[39m\u001b[39m.\u001b[39m_forward_pre_hooks\n\u001b[1;32m   1525\u001b[0m         \u001b[39mor\u001b[39;00m _global_backward_pre_hooks \u001b[39mor\u001b[39;00m _global_backward_hooks\n\u001b[1;32m   1526\u001b[0m         \u001b[39mor\u001b[39;00m _global_forward_hooks \u001b[39mor\u001b[39;00m _global_forward_pre_hooks):\n\u001b[0;32m-> 1527\u001b[0m     \u001b[39mreturn\u001b[39;00m forward_call(\u001b[39m*\u001b[39;49margs, \u001b[39m*\u001b[39;49m\u001b[39m*\u001b[39;49mkwargs)\n\u001b[1;32m   1529\u001b[0m \u001b[39mtry\u001b[39;00m:\n\u001b[1;32m   1530\u001b[0m     result \u001b[39m=\u001b[39m \u001b[39mNone\u001b[39;00m\n",
      "File \u001b[0;32m~/Documents/GitHub/CFR-Parsing/cfr/lib/python3.11/site-packages/transformers/models/bert/modeling_bert.py:607\u001b[0m, in \u001b[0;36mBertEncoder.forward\u001b[0;34m(self, hidden_states, attention_mask, head_mask, encoder_hidden_states, encoder_attention_mask, past_key_values, use_cache, output_attentions, output_hidden_states, return_dict)\u001b[0m\n\u001b[1;32m    596\u001b[0m     layer_outputs \u001b[39m=\u001b[39m \u001b[39mself\u001b[39m\u001b[39m.\u001b[39m_gradient_checkpointing_func(\n\u001b[1;32m    597\u001b[0m         layer_module\u001b[39m.\u001b[39m\u001b[39m__call__\u001b[39m,\n\u001b[1;32m    598\u001b[0m         hidden_states,\n\u001b[0;32m   (...)\u001b[0m\n\u001b[1;32m    604\u001b[0m         output_attentions,\n\u001b[1;32m    605\u001b[0m     )\n\u001b[1;32m    606\u001b[0m \u001b[39melse\u001b[39;00m:\n\u001b[0;32m--> 607\u001b[0m     layer_outputs \u001b[39m=\u001b[39m layer_module(\n\u001b[1;32m    608\u001b[0m         hidden_states,\n\u001b[1;32m    609\u001b[0m         attention_mask,\n\u001b[1;32m    610\u001b[0m         layer_head_mask,\n\u001b[1;32m    611\u001b[0m         encoder_hidden_states,\n\u001b[1;32m    612\u001b[0m         encoder_attention_mask,\n\u001b[1;32m    613\u001b[0m         past_key_value,\n\u001b[1;32m    614\u001b[0m         output_attentions,\n\u001b[1;32m    615\u001b[0m     )\n\u001b[1;32m    617\u001b[0m hidden_states \u001b[39m=\u001b[39m layer_outputs[\u001b[39m0\u001b[39m]\n\u001b[1;32m    618\u001b[0m \u001b[39mif\u001b[39;00m use_cache:\n",
      "File \u001b[0;32m~/Documents/GitHub/CFR-Parsing/cfr/lib/python3.11/site-packages/torch/nn/modules/module.py:1518\u001b[0m, in \u001b[0;36mModule._wrapped_call_impl\u001b[0;34m(self, *args, **kwargs)\u001b[0m\n\u001b[1;32m   1516\u001b[0m     \u001b[39mreturn\u001b[39;00m \u001b[39mself\u001b[39m\u001b[39m.\u001b[39m_compiled_call_impl(\u001b[39m*\u001b[39margs, \u001b[39m*\u001b[39m\u001b[39m*\u001b[39mkwargs)  \u001b[39m# type: ignore[misc]\u001b[39;00m\n\u001b[1;32m   1517\u001b[0m \u001b[39melse\u001b[39;00m:\n\u001b[0;32m-> 1518\u001b[0m     \u001b[39mreturn\u001b[39;00m \u001b[39mself\u001b[39;49m\u001b[39m.\u001b[39;49m_call_impl(\u001b[39m*\u001b[39;49margs, \u001b[39m*\u001b[39;49m\u001b[39m*\u001b[39;49mkwargs)\n",
      "File \u001b[0;32m~/Documents/GitHub/CFR-Parsing/cfr/lib/python3.11/site-packages/torch/nn/modules/module.py:1527\u001b[0m, in \u001b[0;36mModule._call_impl\u001b[0;34m(self, *args, **kwargs)\u001b[0m\n\u001b[1;32m   1522\u001b[0m \u001b[39m# If we don't have any hooks, we want to skip the rest of the logic in\u001b[39;00m\n\u001b[1;32m   1523\u001b[0m \u001b[39m# this function, and just call forward.\u001b[39;00m\n\u001b[1;32m   1524\u001b[0m \u001b[39mif\u001b[39;00m \u001b[39mnot\u001b[39;00m (\u001b[39mself\u001b[39m\u001b[39m.\u001b[39m_backward_hooks \u001b[39mor\u001b[39;00m \u001b[39mself\u001b[39m\u001b[39m.\u001b[39m_backward_pre_hooks \u001b[39mor\u001b[39;00m \u001b[39mself\u001b[39m\u001b[39m.\u001b[39m_forward_hooks \u001b[39mor\u001b[39;00m \u001b[39mself\u001b[39m\u001b[39m.\u001b[39m_forward_pre_hooks\n\u001b[1;32m   1525\u001b[0m         \u001b[39mor\u001b[39;00m _global_backward_pre_hooks \u001b[39mor\u001b[39;00m _global_backward_hooks\n\u001b[1;32m   1526\u001b[0m         \u001b[39mor\u001b[39;00m _global_forward_hooks \u001b[39mor\u001b[39;00m _global_forward_pre_hooks):\n\u001b[0;32m-> 1527\u001b[0m     \u001b[39mreturn\u001b[39;00m forward_call(\u001b[39m*\u001b[39;49margs, \u001b[39m*\u001b[39;49m\u001b[39m*\u001b[39;49mkwargs)\n\u001b[1;32m   1529\u001b[0m \u001b[39mtry\u001b[39;00m:\n\u001b[1;32m   1530\u001b[0m     result \u001b[39m=\u001b[39m \u001b[39mNone\u001b[39;00m\n",
      "File \u001b[0;32m~/Documents/GitHub/CFR-Parsing/cfr/lib/python3.11/site-packages/transformers/models/bert/modeling_bert.py:497\u001b[0m, in \u001b[0;36mBertLayer.forward\u001b[0;34m(self, hidden_states, attention_mask, head_mask, encoder_hidden_states, encoder_attention_mask, past_key_value, output_attentions)\u001b[0m\n\u001b[1;32m    485\u001b[0m \u001b[39mdef\u001b[39;00m \u001b[39mforward\u001b[39m(\n\u001b[1;32m    486\u001b[0m     \u001b[39mself\u001b[39m,\n\u001b[1;32m    487\u001b[0m     hidden_states: torch\u001b[39m.\u001b[39mTensor,\n\u001b[0;32m   (...)\u001b[0m\n\u001b[1;32m    494\u001b[0m ) \u001b[39m-\u001b[39m\u001b[39m>\u001b[39m Tuple[torch\u001b[39m.\u001b[39mTensor]:\n\u001b[1;32m    495\u001b[0m     \u001b[39m# decoder uni-directional self-attention cached key/values tuple is at positions 1,2\u001b[39;00m\n\u001b[1;32m    496\u001b[0m     self_attn_past_key_value \u001b[39m=\u001b[39m past_key_value[:\u001b[39m2\u001b[39m] \u001b[39mif\u001b[39;00m past_key_value \u001b[39mis\u001b[39;00m \u001b[39mnot\u001b[39;00m \u001b[39mNone\u001b[39;00m \u001b[39melse\u001b[39;00m \u001b[39mNone\u001b[39;00m\n\u001b[0;32m--> 497\u001b[0m     self_attention_outputs \u001b[39m=\u001b[39m \u001b[39mself\u001b[39;49m\u001b[39m.\u001b[39;49mattention(\n\u001b[1;32m    498\u001b[0m         hidden_states,\n\u001b[1;32m    499\u001b[0m         attention_mask,\n\u001b[1;32m    500\u001b[0m         head_mask,\n\u001b[1;32m    501\u001b[0m         output_attentions\u001b[39m=\u001b[39;49moutput_attentions,\n\u001b[1;32m    502\u001b[0m         past_key_value\u001b[39m=\u001b[39;49mself_attn_past_key_value,\n\u001b[1;32m    503\u001b[0m     )\n\u001b[1;32m    504\u001b[0m     attention_output \u001b[39m=\u001b[39m self_attention_outputs[\u001b[39m0\u001b[39m]\n\u001b[1;32m    506\u001b[0m     \u001b[39m# if decoder, the last output is tuple of self-attn cache\u001b[39;00m\n",
      "File \u001b[0;32m~/Documents/GitHub/CFR-Parsing/cfr/lib/python3.11/site-packages/torch/nn/modules/module.py:1518\u001b[0m, in \u001b[0;36mModule._wrapped_call_impl\u001b[0;34m(self, *args, **kwargs)\u001b[0m\n\u001b[1;32m   1516\u001b[0m     \u001b[39mreturn\u001b[39;00m \u001b[39mself\u001b[39m\u001b[39m.\u001b[39m_compiled_call_impl(\u001b[39m*\u001b[39margs, \u001b[39m*\u001b[39m\u001b[39m*\u001b[39mkwargs)  \u001b[39m# type: ignore[misc]\u001b[39;00m\n\u001b[1;32m   1517\u001b[0m \u001b[39melse\u001b[39;00m:\n\u001b[0;32m-> 1518\u001b[0m     \u001b[39mreturn\u001b[39;00m \u001b[39mself\u001b[39;49m\u001b[39m.\u001b[39;49m_call_impl(\u001b[39m*\u001b[39;49margs, \u001b[39m*\u001b[39;49m\u001b[39m*\u001b[39;49mkwargs)\n",
      "File \u001b[0;32m~/Documents/GitHub/CFR-Parsing/cfr/lib/python3.11/site-packages/torch/nn/modules/module.py:1527\u001b[0m, in \u001b[0;36mModule._call_impl\u001b[0;34m(self, *args, **kwargs)\u001b[0m\n\u001b[1;32m   1522\u001b[0m \u001b[39m# If we don't have any hooks, we want to skip the rest of the logic in\u001b[39;00m\n\u001b[1;32m   1523\u001b[0m \u001b[39m# this function, and just call forward.\u001b[39;00m\n\u001b[1;32m   1524\u001b[0m \u001b[39mif\u001b[39;00m \u001b[39mnot\u001b[39;00m (\u001b[39mself\u001b[39m\u001b[39m.\u001b[39m_backward_hooks \u001b[39mor\u001b[39;00m \u001b[39mself\u001b[39m\u001b[39m.\u001b[39m_backward_pre_hooks \u001b[39mor\u001b[39;00m \u001b[39mself\u001b[39m\u001b[39m.\u001b[39m_forward_hooks \u001b[39mor\u001b[39;00m \u001b[39mself\u001b[39m\u001b[39m.\u001b[39m_forward_pre_hooks\n\u001b[1;32m   1525\u001b[0m         \u001b[39mor\u001b[39;00m _global_backward_pre_hooks \u001b[39mor\u001b[39;00m _global_backward_hooks\n\u001b[1;32m   1526\u001b[0m         \u001b[39mor\u001b[39;00m _global_forward_hooks \u001b[39mor\u001b[39;00m _global_forward_pre_hooks):\n\u001b[0;32m-> 1527\u001b[0m     \u001b[39mreturn\u001b[39;00m forward_call(\u001b[39m*\u001b[39;49margs, \u001b[39m*\u001b[39;49m\u001b[39m*\u001b[39;49mkwargs)\n\u001b[1;32m   1529\u001b[0m \u001b[39mtry\u001b[39;00m:\n\u001b[1;32m   1530\u001b[0m     result \u001b[39m=\u001b[39m \u001b[39mNone\u001b[39;00m\n",
      "File \u001b[0;32m~/Documents/GitHub/CFR-Parsing/cfr/lib/python3.11/site-packages/transformers/models/bert/modeling_bert.py:427\u001b[0m, in \u001b[0;36mBertAttention.forward\u001b[0;34m(self, hidden_states, attention_mask, head_mask, encoder_hidden_states, encoder_attention_mask, past_key_value, output_attentions)\u001b[0m\n\u001b[1;32m    417\u001b[0m \u001b[39mdef\u001b[39;00m \u001b[39mforward\u001b[39m(\n\u001b[1;32m    418\u001b[0m     \u001b[39mself\u001b[39m,\n\u001b[1;32m    419\u001b[0m     hidden_states: torch\u001b[39m.\u001b[39mTensor,\n\u001b[0;32m   (...)\u001b[0m\n\u001b[1;32m    425\u001b[0m     output_attentions: Optional[\u001b[39mbool\u001b[39m] \u001b[39m=\u001b[39m \u001b[39mFalse\u001b[39;00m,\n\u001b[1;32m    426\u001b[0m ) \u001b[39m-\u001b[39m\u001b[39m>\u001b[39m Tuple[torch\u001b[39m.\u001b[39mTensor]:\n\u001b[0;32m--> 427\u001b[0m     self_outputs \u001b[39m=\u001b[39m \u001b[39mself\u001b[39;49m\u001b[39m.\u001b[39;49mself(\n\u001b[1;32m    428\u001b[0m         hidden_states,\n\u001b[1;32m    429\u001b[0m         attention_mask,\n\u001b[1;32m    430\u001b[0m         head_mask,\n\u001b[1;32m    431\u001b[0m         encoder_hidden_states,\n\u001b[1;32m    432\u001b[0m         encoder_attention_mask,\n\u001b[1;32m    433\u001b[0m         past_key_value,\n\u001b[1;32m    434\u001b[0m         output_attentions,\n\u001b[1;32m    435\u001b[0m     )\n\u001b[1;32m    436\u001b[0m     attention_output \u001b[39m=\u001b[39m \u001b[39mself\u001b[39m\u001b[39m.\u001b[39moutput(self_outputs[\u001b[39m0\u001b[39m], hidden_states)\n\u001b[1;32m    437\u001b[0m     outputs \u001b[39m=\u001b[39m (attention_output,) \u001b[39m+\u001b[39m self_outputs[\u001b[39m1\u001b[39m:]  \u001b[39m# add attentions if we output them\u001b[39;00m\n",
      "File \u001b[0;32m~/Documents/GitHub/CFR-Parsing/cfr/lib/python3.11/site-packages/torch/nn/modules/module.py:1518\u001b[0m, in \u001b[0;36mModule._wrapped_call_impl\u001b[0;34m(self, *args, **kwargs)\u001b[0m\n\u001b[1;32m   1516\u001b[0m     \u001b[39mreturn\u001b[39;00m \u001b[39mself\u001b[39m\u001b[39m.\u001b[39m_compiled_call_impl(\u001b[39m*\u001b[39margs, \u001b[39m*\u001b[39m\u001b[39m*\u001b[39mkwargs)  \u001b[39m# type: ignore[misc]\u001b[39;00m\n\u001b[1;32m   1517\u001b[0m \u001b[39melse\u001b[39;00m:\n\u001b[0;32m-> 1518\u001b[0m     \u001b[39mreturn\u001b[39;00m \u001b[39mself\u001b[39;49m\u001b[39m.\u001b[39;49m_call_impl(\u001b[39m*\u001b[39;49margs, \u001b[39m*\u001b[39;49m\u001b[39m*\u001b[39;49mkwargs)\n",
      "File \u001b[0;32m~/Documents/GitHub/CFR-Parsing/cfr/lib/python3.11/site-packages/torch/nn/modules/module.py:1527\u001b[0m, in \u001b[0;36mModule._call_impl\u001b[0;34m(self, *args, **kwargs)\u001b[0m\n\u001b[1;32m   1522\u001b[0m \u001b[39m# If we don't have any hooks, we want to skip the rest of the logic in\u001b[39;00m\n\u001b[1;32m   1523\u001b[0m \u001b[39m# this function, and just call forward.\u001b[39;00m\n\u001b[1;32m   1524\u001b[0m \u001b[39mif\u001b[39;00m \u001b[39mnot\u001b[39;00m (\u001b[39mself\u001b[39m\u001b[39m.\u001b[39m_backward_hooks \u001b[39mor\u001b[39;00m \u001b[39mself\u001b[39m\u001b[39m.\u001b[39m_backward_pre_hooks \u001b[39mor\u001b[39;00m \u001b[39mself\u001b[39m\u001b[39m.\u001b[39m_forward_hooks \u001b[39mor\u001b[39;00m \u001b[39mself\u001b[39m\u001b[39m.\u001b[39m_forward_pre_hooks\n\u001b[1;32m   1525\u001b[0m         \u001b[39mor\u001b[39;00m _global_backward_pre_hooks \u001b[39mor\u001b[39;00m _global_backward_hooks\n\u001b[1;32m   1526\u001b[0m         \u001b[39mor\u001b[39;00m _global_forward_hooks \u001b[39mor\u001b[39;00m _global_forward_pre_hooks):\n\u001b[0;32m-> 1527\u001b[0m     \u001b[39mreturn\u001b[39;00m forward_call(\u001b[39m*\u001b[39;49margs, \u001b[39m*\u001b[39;49m\u001b[39m*\u001b[39;49mkwargs)\n\u001b[1;32m   1529\u001b[0m \u001b[39mtry\u001b[39;00m:\n\u001b[1;32m   1530\u001b[0m     result \u001b[39m=\u001b[39m \u001b[39mNone\u001b[39;00m\n",
      "File \u001b[0;32m~/Documents/GitHub/CFR-Parsing/cfr/lib/python3.11/site-packages/transformers/models/bert/modeling_bert.py:355\u001b[0m, in \u001b[0;36mBertSelfAttention.forward\u001b[0;34m(self, hidden_states, attention_mask, head_mask, encoder_hidden_states, encoder_attention_mask, past_key_value, output_attentions)\u001b[0m\n\u001b[1;32m    352\u001b[0m     attention_scores \u001b[39m=\u001b[39m attention_scores \u001b[39m+\u001b[39m attention_mask\n\u001b[1;32m    354\u001b[0m \u001b[39m# Normalize the attention scores to probabilities.\u001b[39;00m\n\u001b[0;32m--> 355\u001b[0m attention_probs \u001b[39m=\u001b[39m nn\u001b[39m.\u001b[39;49mfunctional\u001b[39m.\u001b[39;49msoftmax(attention_scores, dim\u001b[39m=\u001b[39;49m\u001b[39m-\u001b[39;49m\u001b[39m1\u001b[39;49m)\n\u001b[1;32m    357\u001b[0m \u001b[39m# This is actually dropping out entire tokens to attend to, which might\u001b[39;00m\n\u001b[1;32m    358\u001b[0m \u001b[39m# seem a bit unusual, but is taken from the original Transformer paper.\u001b[39;00m\n\u001b[1;32m    359\u001b[0m attention_probs \u001b[39m=\u001b[39m \u001b[39mself\u001b[39m\u001b[39m.\u001b[39mdropout(attention_probs)\n",
      "File \u001b[0;32m~/Documents/GitHub/CFR-Parsing/cfr/lib/python3.11/site-packages/torch/nn/functional.py:1826\u001b[0m, in \u001b[0;36msoftmax\u001b[0;34m(input, dim, _stacklevel, dtype)\u001b[0m\n\u001b[1;32m   1822\u001b[0m         ret \u001b[39m=\u001b[39m (\u001b[39m-\u001b[39m\u001b[39minput\u001b[39m)\u001b[39m.\u001b[39msoftmax(dim, dtype\u001b[39m=\u001b[39mdtype)\n\u001b[1;32m   1823\u001b[0m     \u001b[39mreturn\u001b[39;00m ret\n\u001b[0;32m-> 1826\u001b[0m \u001b[39mdef\u001b[39;00m \u001b[39msoftmax\u001b[39m(\u001b[39minput\u001b[39m: Tensor, dim: Optional[\u001b[39mint\u001b[39m] \u001b[39m=\u001b[39m \u001b[39mNone\u001b[39;00m, _stacklevel: \u001b[39mint\u001b[39m \u001b[39m=\u001b[39m \u001b[39m3\u001b[39m, dtype: Optional[DType] \u001b[39m=\u001b[39m \u001b[39mNone\u001b[39;00m) \u001b[39m-\u001b[39m\u001b[39m>\u001b[39m Tensor:\n\u001b[1;32m   1827\u001b[0m \u001b[39m    \u001b[39m\u001b[39mr\u001b[39m\u001b[39m\"\"\"Applies a softmax function.\u001b[39;00m\n\u001b[1;32m   1828\u001b[0m \n\u001b[1;32m   1829\u001b[0m \u001b[39m    Softmax is defined as:\u001b[39;00m\n\u001b[0;32m   (...)\u001b[0m\n\u001b[1;32m   1849\u001b[0m \n\u001b[1;32m   1850\u001b[0m \u001b[39m    \"\"\"\u001b[39;00m\n\u001b[1;32m   1851\u001b[0m     \u001b[39mif\u001b[39;00m has_torch_function_unary(\u001b[39minput\u001b[39m):\n",
      "\u001b[0;31mKeyboardInterrupt\u001b[0m: "
     ]
    }
   ],
   "source": [
    "# Now let's use the paraphrase model\n",
    "sentences = df['text'].tolist()\n",
    "paraphrases = util.paraphrase_mining(sbert_model, sentences, \n",
    "                                     query_chunk_size=32, corpus_chunk_size=len(sentences),\n",
    "                                     top_k=1, max_pairs=100,\n",
    "                                     show_progress_bar=True)\n",
    "\n",
    "for paraphrase in paraphrases[0:10]:\n",
    "    score, i, j = paraphrase\n",
    "    print(\"{} \\t\\t {} \\t\\t Score: {:.4f}\".format(sentences[i], sentences[j], score))"
   ]
  }
 ],
 "metadata": {
  "kernelspec": {
   "display_name": "cfr",
   "language": "python",
   "name": "python3"
  },
  "language_info": {
   "codemirror_mode": {
    "name": "ipython",
    "version": 3
   },
   "file_extension": ".py",
   "mimetype": "text/x-python",
   "name": "python",
   "nbconvert_exporter": "python",
   "pygments_lexer": "ipython3",
   "version": "3.11.6"
  }
 },
 "nbformat": 4,
 "nbformat_minor": 2
}
