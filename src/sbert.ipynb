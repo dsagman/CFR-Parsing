{
 "cells": [
  {
   "cell_type": "markdown",
   "metadata": {},
   "source": [
    "Using SBERT to find similar sentences\n",
    "\n",
    "reference: https://medium.com/mlearning-ai/nice-classification-recommendation-using-sentence-bert-b1af32d0131e"
   ]
  },
  {
   "cell_type": "code",
   "execution_count": 5,
   "metadata": {},
   "outputs": [],
   "source": [
    "import pandas as pd\n",
    "import numpy as np\n",
    "from sentence_transformers import SentenceTransformer"
   ]
  },
  {
   "cell_type": "code",
   "execution_count": 27,
   "metadata": {},
   "outputs": [
    {
     "name": "stdout",
     "output_type": "stream",
     "text": [
      "<class 'pandas.core.frame.DataFrame'>\n",
      "RangeIndex: 117306 entries, 0 to 117305\n",
      "Data columns (total 6 columns):\n",
      " #   Column        Non-Null Count   Dtype \n",
      "---  ------        --------------   ----- \n",
      " 0   p_id          117306 non-null  object\n",
      " 1   text          117306 non-null  object\n",
      " 2   child_ids     117306 non-null  object\n",
      " 3   cfr_links     117306 non-null  object\n",
      " 4   other_links   117306 non-null  object\n",
      " 5   link_targets  117306 non-null  object\n",
      "dtypes: object(6)\n",
      "memory usage: 5.4+ MB\n"
     ]
    }
   ],
   "source": [
    "\n",
    "#Cosine Similarity function\n",
    "def cosine(u, v):\n",
    "    return np.dot(u, v) / (np.linalg.norm(u) * np.linalg.norm(v))\n",
    "\n",
    "# #Load the Nice classification data\n",
    "# ncl_all = pd.read_csv('consolidated_nice_classifications.csv', sep=',')\n",
    "\n",
    "# load the dataframe \n",
    "title_number = \"12\"\n",
    "df = pd.read_parquet(f\"../dataframe/{title_number}.parquet\")\n",
    "df.info()\n"
   ]
  },
  {
   "cell_type": "code",
   "execution_count": 28,
   "metadata": {},
   "outputs": [
    {
     "name": "stdout",
     "output_type": "stream",
     "text": [
      "<class 'pandas.core.frame.DataFrame'>\n",
      "RangeIndex: 1000 entries, 0 to 999\n",
      "Data columns (total 6 columns):\n",
      " #   Column        Non-Null Count  Dtype \n",
      "---  ------        --------------  ----- \n",
      " 0   p_id          1000 non-null   object\n",
      " 1   text          1000 non-null   object\n",
      " 2   child_ids     1000 non-null   object\n",
      " 3   cfr_links     1000 non-null   object\n",
      " 4   other_links   1000 non-null   object\n",
      " 5   link_targets  1000 non-null   object\n",
      "dtypes: object(6)\n",
      "memory usage: 47.0+ KB\n"
     ]
    }
   ],
   "source": [
    "# Rather than use the whole title, let's just use a sample\n",
    "sample_size = 1000\n",
    "df_sample = df[:sample_size]\n",
    "df_sample.info()"
   ]
  },
  {
   "cell_type": "code",
   "execution_count": 29,
   "metadata": {},
   "outputs": [],
   "source": [
    "#Load the SBERT model\n",
    "sbert_model = SentenceTransformer('all-MiniLM-L6-v2')\n",
    "\n",
    "#Create the sentence embeddings for the Nice classifications\n",
    "sentence_embeddings = sbert_model.encode(df['text'])\n",
    "print(\"Shape of embeddings = \", sentence_embeddings.shape)\n",
    "# sentence_embeddings[0]"
   ]
  },
  {
   "cell_type": "code",
   "execution_count": 20,
   "metadata": {},
   "outputs": [
    {
     "name": "stdout",
     "output_type": "stream",
     "text": [
      "Shape of query embeddings =  (384,)\n"
     ]
    }
   ],
   "source": [
    "\n",
    "#Create the sentence embeddings for the example product description\n",
    "# #query = \"A handbag is a medium-to-large bag typically used by women to hold personal items. It is often fashionably designed. Versions of the term are 'purse', 'pocketbook', 'pouch', or 'clutch', terms which suggest rather smaller versions.\"\n",
    "# #query = 'A protection, safety, and private security agency. We specialize in the areas of close protection, property and home security and event security.'\n",
    "# query = 'A Home appliance is any consumer-electronic machine use to complete some household task, such as cooking or cleaning. Home appliances can be classified into: Major appliances (or white goods) and Small appliances'\n",
    "# #query = 'ovens for laboratory use'\n",
    "# #query = 'computer game software for use on mobile and cellular telephones'\n",
    "query = 'Transfer of fund via electronic methods such as ATM, POS, internet banking, mobile banking, etc.'\n",
    "query_vec = sbert_model.encode([query])[0]\n",
    "print(\"Shape of query embeddings = \", query_vec.shape)"
   ]
  },
  {
   "cell_type": "code",
   "execution_count": 26,
   "metadata": {},
   "outputs": [
    {
     "ename": "NameError",
     "evalue": "name 'df_sample' is not defined",
     "output_type": "error",
     "traceback": [
      "\u001b[0;31m---------------------------------------------------------------------------\u001b[0m",
      "\u001b[0;31mNameError\u001b[0m                                 Traceback (most recent call last)",
      "\u001b[1;32m/home/agman/Documents/GitHub/CFR-Parsing/src/sbert.ipynb Cell 7\u001b[0m line \u001b[0;36m6\n\u001b[1;32m      <a href='vscode-notebook-cell:/home/agman/Documents/GitHub/CFR-Parsing/src/sbert.ipynb#X11sZmlsZQ%3D%3D?line=2'>3</a>\u001b[0m \u001b[39mfor\u001b[39;00m cfr \u001b[39min\u001b[39;00m sentence_embeddings:\n\u001b[1;32m      <a href='vscode-notebook-cell:/home/agman/Documents/GitHub/CFR-Parsing/src/sbert.ipynb#X11sZmlsZQ%3D%3D?line=3'>4</a>\u001b[0m     cfr_sim\u001b[39m.\u001b[39mappend(cosine(query_vec, cfr))\n\u001b[0;32m----> <a href='vscode-notebook-cell:/home/agman/Documents/GitHub/CFR-Parsing/src/sbert.ipynb#X11sZmlsZQ%3D%3D?line=5'>6</a>\u001b[0m df_sample[\u001b[39m'\u001b[39m\u001b[39msimilarity\u001b[39m\u001b[39m'\u001b[39m] \u001b[39m=\u001b[39m cfr_sim\n\u001b[1;32m      <a href='vscode-notebook-cell:/home/agman/Documents/GitHub/CFR-Parsing/src/sbert.ipynb#X11sZmlsZQ%3D%3D?line=7'>8</a>\u001b[0m \u001b[39m#Display the top 20 matches\u001b[39;00m\n\u001b[1;32m      <a href='vscode-notebook-cell:/home/agman/Documents/GitHub/CFR-Parsing/src/sbert.ipynb#X11sZmlsZQ%3D%3D?line=8'>9</a>\u001b[0m df_sample\u001b[39m.\u001b[39msort_values(by\u001b[39m=\u001b[39m[\u001b[39m'\u001b[39m\u001b[39msimilarity\u001b[39m\u001b[39m'\u001b[39m], ascending\u001b[39m=\u001b[39m\u001b[39mFalse\u001b[39;00m)\u001b[39m.\u001b[39mhead(\u001b[39m20\u001b[39m)\u001b[39m.\u001b[39mstyle\u001b[39m.\u001b[39mset_properties(subset\u001b[39m=\u001b[39m[\u001b[39m'\u001b[39m\u001b[39mtext\u001b[39m\u001b[39m'\u001b[39m], \u001b[39m*\u001b[39m\u001b[39m*\u001b[39m{\u001b[39m'\u001b[39m\u001b[39mwidth-min\u001b[39m\u001b[39m'\u001b[39m: \u001b[39m'\u001b[39m\u001b[39m50px\u001b[39m\u001b[39m'\u001b[39m})\n",
      "\u001b[0;31mNameError\u001b[0m: name 'df_sample' is not defined"
     ]
    }
   ],
   "source": [
    "\n",
    "#Calculate the similarity of the product description to the Nice classifications\n",
    "cfr_sim = []\n",
    "for cfr in sentence_embeddings:\n",
    "    cfr_sim.append(cosine(query_vec, cfr))\n",
    "\n",
    "df_sample['similarity'] = cfr_sim\n",
    "\n",
    "#Display the top 20 matches\n",
    "df_sample.sort_values(by=['similarity'], ascending=False).head(20).style.set_properties(subset=['text'], **{'width-min': '50px'})"
   ]
  }
 ],
 "metadata": {
  "kernelspec": {
   "display_name": "cfr",
   "language": "python",
   "name": "python3"
  },
  "language_info": {
   "codemirror_mode": {
    "name": "ipython",
    "version": 3
   },
   "file_extension": ".py",
   "mimetype": "text/x-python",
   "name": "python",
   "nbconvert_exporter": "python",
   "pygments_lexer": "ipython3",
   "version": "3.11.5"
  }
 },
 "nbformat": 4,
 "nbformat_minor": 2
}
