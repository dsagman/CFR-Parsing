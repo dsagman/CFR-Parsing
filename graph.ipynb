{
 "cells": [
  {
   "cell_type": "code",
   "execution_count": null,
   "metadata": {},
   "outputs": [],
   "source": [
    "%install pip"
   ]
  },
  {
   "cell_type": "code",
   "execution_count": null,
   "metadata": {},
   "outputs": [],
   "source": [
    "import json"
   ]
  },
  {
   "cell_type": "code",
   "execution_count": null,
   "metadata": {},
   "outputs": [
    {
     "ename": "",
     "evalue": "",
     "output_type": "error",
     "traceback": [
      "\u001b[1;31mRunning cells with 'cfr' requires the ipykernel package.\n",
      "\u001b[1;31mRun the following command to install 'ipykernel' into the Python environment. \n",
      "\u001b[1;31mCommand: '/home/agman/git/CFR-Parsing/cfr/bin/python -m pip install ipykernel -U --force-reinstall'"
     ]
    }
   ],
   "source": [
    "title_number = \"12\"\n",
    "directory = f\"{title_number}CFR\"\n",
    "# toc_file = f\"{title_number}CFR/title-{title_number}.json\"\n",
    "# json_toc = json.load(open(toc_file, \"r\"))\n",
    "\n",
    "# base_url = url = \"https://www.ecfr.gov/api/renderer/v1/content/enhanced/\"\n",
    "# base_date = \"2023-09-28\"\n",
    "urls = [url.strip() for url in open(f\"{directory}/{directory}urls.txt\", \"r\").readlines()]\n"
   ]
  },
  {
   "cell_type": "code",
   "execution_count": null,
   "metadata": {},
   "outputs": [],
   "source": []
  }
 ],
 "metadata": {
  "kernelspec": {
   "display_name": "cfr",
   "language": "python",
   "name": "python3"
  },
  "language_info": {
   "name": "python",
   "version": "3.11.5"
  },
  "orig_nbformat": 4
 },
 "nbformat": 4,
 "nbformat_minor": 2
}
