{
 "cells": [
  {
   "cell_type": "code",
   "execution_count": null,
   "metadata": {},
   "outputs": [],
   "source": [
    "# %install pip"
   ]
  },
  {
   "cell_type": "code",
   "execution_count": 1,
   "metadata": {},
   "outputs": [],
   "source": [
    "import json"
   ]
  },
  {
   "cell_type": "code",
   "execution_count": 12,
   "metadata": {},
   "outputs": [],
   "source": [
    "title_number = \"12\"\n",
    "directory = f\"{title_number}CFR\"\n",
    "# toc_file = f\"{title_number}CFR/title-{title_number}.json\"\n",
    "# json_toc = json.load(open(toc_file, \"r\"))\n",
    "\n",
    "# base_url = url = \"https://www.ecfr.gov/api/renderer/v1/content/enhanced/\"\n",
    "# base_date = \"2023-09-28\"\n",
    "docs = [doc.strip() for doc in open(f\"{directory}/{directory}toc.txt\", \"r\").readlines()]\n"
   ]
  },
  {
   "cell_type": "code",
   "execution_count": 25,
   "metadata": {},
   "outputs": [
    {
     "data": {
      "text/plain": [
       "['12CFRtitle_I__1',\n",
       " '12CFRtitle_I__2',\n",
       " '12CFRtitle_I__3',\n",
       " '12CFRtitle_I__4',\n",
       " '12CFRtitle_I__5']"
      ]
     },
     "execution_count": 25,
     "metadata": {},
     "output_type": "execute_result"
    }
   ],
   "source": [
    "filenames = [None]*(len(docs))\n",
    "for doc in docs:\n",
    "    index = int(doc[:doc.find(\"\\t\")])-1\n",
    "    s = doc[doc.find(\"-\")+1:]\n",
    "    pos = s.find('-')\n",
    "    modified_s = s[:].translate(str.maketrans('-', '_'))\n",
    "    \n",
    "    if modified_s.count('_') == 1:\n",
    "        modified_s = modified_s.replace('_', '__')\n",
    "    filenames[index] = directory+'title_'+modified_s\n",
    "filenames[:5]"
   ]
  }
 ],
 "metadata": {
  "kernelspec": {
   "display_name": "cfr",
   "language": "python",
   "name": "python3"
  },
  "language_info": {
   "codemirror_mode": {
    "name": "ipython",
    "version": 3
   },
   "file_extension": ".py",
   "mimetype": "text/x-python",
   "name": "python",
   "nbconvert_exporter": "python",
   "pygments_lexer": "ipython3",
   "version": "3.11.5"
  },
  "orig_nbformat": 4
 },
 "nbformat": 4,
 "nbformat_minor": 2
}
